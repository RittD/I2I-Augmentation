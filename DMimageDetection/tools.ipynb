{
 "cells": [
  {
   "cell_type": "code",
   "execution_count": null,
   "metadata": {},
   "outputs": [],
   "source": [
    "import os\n",
    "import pandas as pd\n",
    "import numpy as np\n",
    "\n",
    "# pick original dataset\n",
    "is_celeba = False\n",
    "\n",
    "if is_celeba:\n",
    "    dataset = \"aug_precise_prompts_strong\"\n",
    "    folder = \"../CelebA/\"\n",
    "    \n",
    "else:\n",
    "    dataset = \"mixed_caps_total_70k\"\n",
    "    folder = \"../fairface/dataset/augmentations/\""
   ]
  },
  {
   "attachments": {},
   "cell_type": "markdown",
   "metadata": {},
   "source": [
    "Build operations.csv for main.py"
   ]
  },
  {
   "cell_type": "code",
   "execution_count": 2,
   "metadata": {},
   "outputs": [],
   "source": [
    "dir_path = folder + dataset\n",
    "\n",
    "filenames = [os.path.join(dataset, filename) for filename in os.listdir(dir_path) if os.path.isfile(os.path.join(dir_path, filename))]\n",
    "df = pd.DataFrame({'src': filenames})\n",
    "df.to_csv('operations_70k.csv', index=False)"
   ]
  },
  {
   "attachments": {},
   "cell_type": "markdown",
   "metadata": {},
   "source": [
    "Calculate fidelity scores from logits"
   ]
  },
  {
   "cell_type": "code",
   "execution_count": 3,
   "metadata": {},
   "outputs": [],
   "source": [
    "# Load CSV file into a Pandas DataFrame\n",
    "df = pd.read_csv(f'results_tst/{dataset}/{dataset}.csv')\n",
    "\n",
    "# Calculate the fidelity using sigmoid, shifting and clipping\n",
    "correction_factor = 3.\n",
    "sigmoid_values = 1 / (1 + np.exp(-df['Grag2021_latent'] / correction_factor))\n",
    "shifted_sig_values = 2 * (sigmoid_values - 0.5)\n",
    "shifted_sig_values[shifted_sig_values < 0] = 0\n",
    "fidelity = shifted_sig_values\n",
    "\n",
    "# Remove everything that comes before the last \"/\" in the first column\n",
    "df['src'] = df['src'].str.split('/').str[-1]\n",
    "\n",
    "# Create a new DataFrame with the modified column names and sigmoid values\n",
    "result_df = pd.DataFrame({'Image_Name': df['src'], 'Fidelity_Score': fidelity})\n",
    "\n",
    "# Save the new DataFrame to a CSV file\n",
    "result_df.to_csv(f'fidelities_{dataset}.csv', index=False)\n"
   ]
  },
  {
   "attachments": {},
   "cell_type": "markdown",
   "metadata": {},
   "source": [
    "Merge FairFace and DM_Image_Detection fidelity classification score"
   ]
  },
  {
   "cell_type": "code",
   "execution_count": 6,
   "metadata": {},
   "outputs": [
    {
     "name": "stdout",
     "output_type": "stream",
     "text": [
      "                     Image_Name    Race  Gender  Race_Score_Goal  \\\n",
      "0            000001_0_black.jpg   Black       1            0.953   \n",
      "1           000001_1_indian.jpg  Latino       1            0.207   \n",
      "2           000001_2_latino.jpg  Latino       1            0.628   \n",
      "3   000001_3_middle eastern.jpg  Latino       1            0.019   \n",
      "4  000001_4_southeast asian.jpg  Latino       1            0.118   \n",
      "\n",
      "                                   Race_Scores Gender_Scores  Fidelity_Score  \\\n",
      "0  [0.953 0.004 0.041 0.    0.    0.    0.002]       [0. 1.]        0.987559   \n",
      "1  [0.004 0.207 0.642 0.041 0.001 0.    0.105]       [0. 1.]        0.979519   \n",
      "2  [0.009 0.003 0.628 0.009 0.001 0.    0.35 ]       [0. 1.]        0.978242   \n",
      "3  [0.005 0.007 0.546 0.019 0.    0.    0.422]       [0. 1.]        0.975398   \n",
      "4  [0.004 0.005 0.717 0.001 0.118 0.042 0.112]       [0. 1.]        0.949471   \n",
      "\n",
      "   Total_Fidelity  \n",
      "0        0.969972  \n",
      "1        0.341774  \n",
      "2        0.764936  \n",
      "3        0.037274  \n",
      "4        0.209912  \n"
     ]
    }
   ],
   "source": [
    "ff_fid = pd.read_csv(\"../fairface/outputs/train_aug_10k_precise_predictions.csv\")\n",
    "synth_fid = pd.read_csv(\"fidelities_10k_precise_prompts.csv\")\n",
    "merged = pd.merge(ff_fid, synth_fid)\n",
    "\n",
    "# # harmonic mean\n",
    "merged[\"Total_Fidelity\"] = 2 * (merged[\"Race_Score_Goal\"] * merged[\"Fidelity_Score\"]) / (merged[\"Race_Score_Goal\"] + merged[\"Fidelity_Score\"])\n",
    "\n",
    "# Fidelity twice as important\n",
    "# merged[\"Total_Fidelity\"] = (2 * merged[\"Fidelity_Score\"] + merged[\"Race_Score_Goal\"]) / 3\n",
    "\n",
    "# merged[\"Total_Fidelity\"] = merged[\"Fidelity_Score\"]\n",
    "\n",
    "print(merged.head())\n",
    "merged.to_csv(\"total_fidelities_10k_harm_precise_prompts.csv\")\n"
   ]
  }
 ],
 "metadata": {
  "kernelspec": {
   "display_name": "Python 3",
   "language": "python",
   "name": "python3"
  },
  "language_info": {
   "codemirror_mode": {
    "name": "ipython",
    "version": 3
   },
   "file_extension": ".py",
   "mimetype": "text/x-python",
   "name": "python",
   "nbconvert_exporter": "python",
   "pygments_lexer": "ipython3",
   "version": "3.7.16"
  },
  "orig_nbformat": 4
 },
 "nbformat": 4,
 "nbformat_minor": 2
}
