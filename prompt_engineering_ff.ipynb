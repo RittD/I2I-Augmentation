{
 "cells": [
  {
   "attachments": {},
   "cell_type": "markdown",
   "metadata": {},
   "source": [
    "### Prompt Engineering for FairFace"
   ]
  },
  {
   "cell_type": "code",
   "execution_count": 1,
   "metadata": {},
   "outputs": [
    {
     "data": {
      "text/plain": [
       "' \\n    PROMPT SCHEME:\\n    \"A photo of a(n) [RACE:1] [GENDER & AGE] [RACE:2]\\n\\n    \\n    GENDER & AGE:\\n    baby girl/boy\\n    girl/boy\\n    teenage girl/boy\\n    young woman/man\\n    woman/man\\n    woman/man in her/his fourties/fifties/sixties\\n    elderly woman/man\\n\\n    \\n    RACE:\\n    either a description standing before or after GENDER & AGE (concret description: see below)\\n\\n'"
      ]
     },
     "execution_count": 1,
     "metadata": {},
     "output_type": "execute_result"
    }
   ],
   "source": [
    "\"\"\" \n",
    "    PROMPT SCHEME:\n",
    "    \"A photo of a(n) [RACE:1] [GENDER & AGE] [RACE:2]\n",
    "\n",
    "    \n",
    "    GENDER & AGE:\n",
    "    baby girl/boy\n",
    "    girl/boy\n",
    "    teenage girl/boy\n",
    "    young woman/man\n",
    "    woman/man\n",
    "    woman/man in her/his fourties/fifties/sixties\n",
    "    elderly woman/man\n",
    "\n",
    "    \n",
    "    RACE:\n",
    "    either a description standing before or after GENDER & AGE (concret description: see below)\n",
    "\n",
    "\"\"\""
   ]
  },
  {
   "cell_type": "code",
   "execution_count": 2,
   "metadata": {},
   "outputs": [],
   "source": [
    "import pandas as pd\n",
    "import numpy as np\n",
    "from numpy.random import randint"
   ]
  },
  {
   "cell_type": "code",
   "execution_count": 3,
   "metadata": {},
   "outputs": [],
   "source": [
    "races = [\"Black\", \"Indian\", \"Latino_Hispanic\", \"Middle Eastern\", \"Southeast Asian\", \"East Asian\", \"White\"]\n",
    "\n",
    "black_desc = [\"Black\", \"African American\", \"Northern African\", \"Eastern African\", \n",
    "              \"from Southern Africa\", \"from Western Africa\", \"from Central Africa\"]\n",
    "\n",
    "indian_desc = [\"Indian\", \"Pakistani\", \"Northern Indian\", \"Eastern Indian\",\n",
    "               \"from Southern India\", \"from Western India\", \"from Central India\"]\n",
    "\n",
    "lat_desc = [\"Latino\", \"Hispanic\", \"Mexican\", \"Latin American\",\n",
    "            \"from the Carribean\", \"from South America\", \"from Central America\"]\n",
    "\n",
    "me_desc = [\"Middle Eastern\", \"Arab\", \"Iranian\", \"Turkish\",\n",
    "           \"from the Middle East\", \"from the Arabian Peninsula\", \"from Egypt\"]\n",
    "\n",
    "sea_desc = [\"Southeast Asian\", \"Indonesian\", \"Vietnamese\", \"Filipino\",\n",
    "            \"from Mainland Southeast Asia\", \"from Maritime Southeast Asia\", \"from Indonesia\"]\n",
    "\n",
    "easian_desc = [\"East Asian\", \"Chinese\", \"Korean\", \"Han Chinese\",\n",
    "               \"from East Asia\", \"from China\", \"from Japan\"]\n",
    "\n",
    "white_desc = [\"White\", \"European American\", \"European Australian\", \"Northern European\", \n",
    "              \"from Eastern Europe\", \"from Southern Europe\", \"from Western Europe\"]\n",
    "\n",
    "\n",
    "race_descs = [black_desc, indian_desc, lat_desc, me_desc, sea_desc, easian_desc, white_desc]\n",
    "race_desc_pos_sep = 4\n",
    "\n",
    "\n",
    "age_steps = [\"0-2\", \"3-9\", \"10-19\", \"20-29\", \"30-39\", \"40-49\", \"50-59\", \"60-69\", \"more than 70\"]\n",
    "male_desc = [\"baby boy\", \"boy\", \"teenage boy\", \"young man\", \"man\", \"man in his fourties\", \"man in his fifties\", \"man in his sixties\", \"elderly man\"]\n",
    "female_desc = [\"baby girl\", \"girl\", \"teenage girl\", \"young woman\", \"woman\", \"woman in her fourties\", \"woman in her fifties\", \"woman in her sixties\", \"elderly woman\"]\n"
   ]
  },
  {
   "cell_type": "code",
   "execution_count": 4,
   "metadata": {},
   "outputs": [
    {
     "name": "stdout",
     "output_type": "stream",
     "text": [
      "[7, 7, 7, 7, 7, 7, 7]\n"
     ]
    }
   ],
   "source": [
    "print([len(desc) for desc in race_descs])"
   ]
  },
  {
   "cell_type": "code",
   "execution_count": 5,
   "metadata": {},
   "outputs": [],
   "source": [
    "# build a FairFace prompt from age, gender and race index\n",
    "def build_ff_prompt(age, gender, race, random_race_desc):\n",
    "\n",
    "    # build prefix\n",
    "    prefix = f\"a photo of a\"\n",
    "\n",
    "\n",
    "    # get gender & age descriptor\n",
    "    if gender == \"Male\":\n",
    "        gender_age_desc = male_desc[age_steps.index(age)]\n",
    "    else:\n",
    "        gender_age_desc = female_desc[age_steps.index(age)]\n",
    "\n",
    "    race_index = races.index(race)\n",
    "\n",
    "    # pick race descriptor\n",
    "    if random_race_desc:\n",
    "        rand = randint(len(race_descs[0]))\n",
    "    else:\n",
    "        rand = 0\n",
    "\n",
    "    race_desc = race_descs[race_index][rand]\n",
    "\n",
    "    # put race descriptor at the correct position in the sentence and finish the prompt\n",
    "    if rand < race_desc_pos_sep:\n",
    "        filler = \"n \" if race_desc[0] in 'aeiouAEIOU' else \" \"\n",
    "        prompt = prefix + filler + race_desc + \" \" + gender_age_desc\n",
    "    else:\n",
    "        filler = \"n \" if gender_age_desc[0] in 'aeiouAEIOU' else \" \"\n",
    "        prompt = prefix + filler + gender_age_desc + \" \" + race_desc \n",
    "    \n",
    "    return prompt"
   ]
  },
  {
   "cell_type": "code",
   "execution_count": 6,
   "metadata": {},
   "outputs": [],
   "source": [
    "# build diverse prompts for the inserted image_numbers based on the attributes available for FairFace images\n",
    "# returns dict: (image_number: prompt)\n",
    "def get_ff_prompts(image_numbers, random_race_desc=True):\n",
    "    attr_path = \"fairface/dataset/fairface_label_train.csv\"\n",
    "    attributes = pd.read_csv(attr_path)\n",
    "    prompts = {}\n",
    "    for img_nmb in image_numbers:\n",
    "        current = attributes.iloc[img_nmb-1]\n",
    "        prompts[img_nmb] = build_ff_prompt(current[\"age\"], current[\"gender\"], current[\"race\"], random_race_desc)\n",
    "    return prompts"
   ]
  },
  {
   "cell_type": "code",
   "execution_count": 9,
   "metadata": {},
   "outputs": [
    {
     "data": {
      "text/plain": [
       "{108: 'a photo of an elderly woman from Central India',\n",
       " 144: 'a photo of a Korean elderly man'}"
      ]
     },
     "execution_count": 9,
     "metadata": {},
     "output_type": "execute_result"
    }
   ],
   "source": [
    "# build_prompt(\"50-59\", \"Male\", \"Southeast Asian\")\n",
    "img_numbers = np.arange(1, 100)\n",
    "get_ff_prompts(img_numbers, random_race_desc=True)"
   ]
  }
 ],
 "metadata": {
  "kernelspec": {
   "display_name": "Python 3",
   "language": "python",
   "name": "python3"
  },
  "language_info": {
   "codemirror_mode": {
    "name": "ipython",
    "version": 3
   },
   "file_extension": ".py",
   "mimetype": "text/x-python",
   "name": "python",
   "nbconvert_exporter": "python",
   "pygments_lexer": "ipython3",
   "version": "3.7.16"
  },
  "orig_nbformat": 4
 },
 "nbformat": 4,
 "nbformat_minor": 2
}
