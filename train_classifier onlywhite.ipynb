{
 "cells": [
  {
   "attachments": {},
   "cell_type": "markdown",
   "metadata": {},
   "source": [
    "# Let's train a classifier"
   ]
  },
  {
   "cell_type": "code",
   "execution_count": 1,
   "metadata": {},
   "outputs": [
    {
     "data": {
      "text/plain": [
       "<torch._C.Generator at 0x7f1707d7f450>"
      ]
     },
     "execution_count": 1,
     "metadata": {},
     "output_type": "execute_result"
    }
   ],
   "source": [
    "import os\n",
    "# os.system(\"pip install pandas\")\n",
    "# os.system(\"pip install torchvision\")\n",
    "os.system(\"CUDA_LAUNCH_BLOCKING=1\")\n",
    "import time\n",
    "\n",
    "import numpy as np\n",
    "import pandas as pd\n",
    "\n",
    "import torch\n",
    "import torch.nn as nn\n",
    "\n",
    "from torch.utils.data import Dataset\n",
    "from torch.utils.data import DataLoader\n",
    "\n",
    "from torchvision import transforms\n",
    "from torchvision.models import resnet34, ResNet34_Weights\n",
    "\n",
    "import time\n",
    "\n",
    "import matplotlib.pyplot as plt\n",
    "from PIL import Image\n",
    "from tqdm import tqdm\n",
    "\n",
    "\n",
    "if torch.cuda.is_available():\n",
    "    torch.backends.cudnn.deterministic = True\n",
    "\n",
    "torch.manual_seed(1)"
   ]
  },
  {
   "cell_type": "code",
   "execution_count": 2,
   "metadata": {},
   "outputs": [],
   "source": [
    "# choose experiment\n",
    "size_train = 86744\n",
    "experiments = [\"FairFace\", \"CelebA\", \"CelebA only white\", \"CelebA augmented\"]\n",
    "exp = 2\n",
    "\n",
    "# set celeb paths\n",
    "celeb_attr_path = \"datasets/celeba/list_attr_celeba.txt\"\n",
    "celeb_partitions_path = 'datasets/celeba/list_eval_partition.txt'\n",
    "celeb_race_path = \"CelebA/races/races_ff.csv\"\n",
    "celeb_label_dir = \"CelebA/labels_split/\"\n",
    "celeb_img_dir = \"CelebA/cropped/\"\n",
    "celeb_img_aug_dir = \"CelebA/augmented/\"\n",
    "celeb_train_csv = f\"train_{size_train}_samples_random.csv\" # \"train_total.csv\"\n",
    "celeb_train_only_white_csv = f\"train_{size_train}_samples_random_white.csv\"\n",
    "celeb_train_aug_csv = f\"train_aug_{size_train}_samples.csv\"\n",
    "celeb_val_csv = \"val_total.csv\"\n",
    "celeb_test_csv = \"test_total.csv\"\n",
    "\n",
    "\n",
    "# set fairface paths\n",
    "ff_img_dir = \"fairface/dataset/fairface-img-margin125-trainval\"\n",
    "ff_label_dir = \"fairface/dataset/\"\n",
    "ff_train_csv = \"fairface_label_train.csv\"\n",
    "ff_val_csv = \"fairface_label_val.csv\"\n",
    "\n",
    "\n",
    "# set hyperparameters\n",
    "learning_rates = [2e-5, 2e-5, 2e-5, 2e-5]\n",
    "lr = learning_rates[exp]\n",
    "num_epochs = 10\n",
    "\n",
    "# Architecture\n",
    "feat_size = (256, 256)\n",
    "bs_train = 128\n",
    "bs_val = 128\n",
    "bs_test = 128\n",
    "device = 'cuda:4'\n",
    "\n",
    "\n",
    "races = [\"Black\", \"Indian\", \"Latino\", \"Middle Eastern\", \"Southeast Asian\", \"East Asian\", \"White\"]\n",
    "ignored_attributes = [\"Black_Hair\", \"Blond_Hair\", \"Brown_Hair\", \"Pale_Skin\"]"
   ]
  },
  {
   "cell_type": "code",
   "execution_count": 3,
   "metadata": {},
   "outputs": [],
   "source": [
    "# define datasets\n",
    "class CelebaDataset(Dataset):\n",
    "    \"\"\"Custom Dataset for loading CelebA face images\"\"\"\n",
    "\n",
    "    def __init__(self, csv_path, img_dir, transform=None, ignored_attributes=[]):\n",
    "    \n",
    "        df = pd.read_csv(csv_path, index_col=None)\n",
    "        # print(df.head())\n",
    "        self.img_dir = img_dir\n",
    "        self.csv_path = csv_path\n",
    "        self.img_names = df[\"Image_Name\"].values\n",
    "        self.races = df[\"Race\"].values\n",
    "        drop_cols = [\"Image_Name\", \"Race\"] + ignored_attributes\n",
    "        self.y = np.expand_dims(np.array(df[\"Male\"].values), axis=1) #df.drop(drop_cols, axis=1).values #\n",
    "        self.transform = transform\n",
    "\n",
    "    def __getitem__(self, index):\n",
    "        img = Image.open(os.path.join(self.img_dir,\n",
    "                                      self.img_names[index]))\n",
    "        \n",
    "        if self.transform is not None:\n",
    "            img = self.transform(img)\n",
    "        \n",
    "        label = self.y[index]\n",
    "        gt_race = self.races[index]\n",
    "        return img, label, gt_race\n",
    "\n",
    "    def __len__(self):\n",
    "        return self.y.shape[0]\n",
    "    \n",
    "\n",
    "\n",
    "class FairFaceDataset(Dataset):\n",
    "    \"\"\"Custom Dataset for loading FairFace images\"\"\"\n",
    "\n",
    "    def __init__(self, csv_path, img_dir, transform=None):\n",
    "    \n",
    "        df = pd.read_csv(csv_path, index_col=None)\n",
    "        # print(df.head())\n",
    "        self.img_dir = img_dir\n",
    "        self.csv_path = csv_path\n",
    "        self.img_names = df[\"file\"].values\n",
    "        self.races = df[\"race\"].replace(\"Latino_Hispanic\", \"Latino\").values\n",
    "        gender = df[\"gender\"].replace(\"Male\", 1).replace(\"Female\", 0)\n",
    "        self.y = np.expand_dims(np.array(gender.values), axis=1)\n",
    "        self.transform = transform\n",
    "\n",
    "    def __getitem__(self, index):\n",
    "        img = Image.open(os.path.join(self.img_dir,\n",
    "                                      self.img_names[index]))\n",
    "        \n",
    "        if self.transform is not None:\n",
    "            img = self.transform(img)\n",
    "        \n",
    "        label = self.y[index]\n",
    "        gt_race = self.races[index]\n",
    "        return img, label, gt_race\n",
    "\n",
    "    def __len__(self):\n",
    "        return self.y.shape[0]"
   ]
  },
  {
   "cell_type": "code",
   "execution_count": 4,
   "metadata": {},
   "outputs": [],
   "source": [
    "# create datasets based on current experiment\n",
    "num_workers = 6\n",
    "custom_transform = transforms.Compose([transforms.Resize(feat_size),\n",
    "                                       transforms.ToTensor()])\n",
    "\n",
    "# training dataset\n",
    "if experiments[exp].startswith(\"CelebA\"):\n",
    "\n",
    "    if experiments[exp].endswith(\"augmented\"):\n",
    "        train_csv = celeb_train_aug_csv\n",
    "        train_img_dir = celeb_img_aug_dir\n",
    "    \n",
    "    else:\n",
    "        if \"only white\" in experiments[exp]:\n",
    "            train_csv = celeb_train_only_white_csv\n",
    "        else:\n",
    "            train_csv = celeb_train_csv\n",
    "        train_img_dir = celeb_img_dir\n",
    "\n",
    "    train_dataset = CelebaDataset(csv_path=celeb_label_dir + train_csv,\n",
    "                                img_dir=train_img_dir,\n",
    "                                transform=custom_transform,\n",
    "                                ignored_attributes=ignored_attributes)\n",
    "\n",
    "if experiments[exp].startswith(\"FairFace\"):\n",
    "    train_dataset = FairFaceDataset(csv_path=ff_label_dir + ff_train_csv,\n",
    "                                    img_dir=ff_img_dir,\n",
    "                                    transform=custom_transform)\n",
    "\n",
    "\n",
    "# validation dataset\n",
    "val_dataset = FairFaceDataset(csv_path=ff_label_dir + ff_val_csv,\n",
    "                                img_dir=ff_img_dir,\n",
    "                                transform=custom_transform)\n",
    "\n",
    "# val_dataset = CelebaDataset(csv_path=celeb_label_dir + celeb_val_csv,\n",
    "#                             img_dir=celeb_img_dir,\n",
    "#                             transform=custom_transform,\n",
    "#                             ignored_attributes=ignored_attributes)\n",
    "\n",
    "\n",
    "# test datasets\n",
    "test_dataset_celeb = CelebaDataset(csv_path=celeb_label_dir + celeb_test_csv,\n",
    "                            img_dir=celeb_img_dir,\n",
    "                            transform=custom_transform,\n",
    "                            ignored_attributes=ignored_attributes)\n",
    "\n",
    "test_dataset_ff = val_dataset\n",
    "\n",
    "\n",
    "# create dataloaders on these datasets\n",
    "train_loader = DataLoader(dataset=train_dataset,\n",
    "                          batch_size=bs_train,\n",
    "                          shuffle=True,\n",
    "                          num_workers=num_workers)\n",
    "\n",
    "val_loader = DataLoader(dataset=val_dataset,\n",
    "                          batch_size=bs_val,\n",
    "                          shuffle=False,\n",
    "                          num_workers=num_workers)\n",
    "\n",
    "test_loader_celeb = DataLoader(dataset=test_dataset_celeb,\n",
    "                          batch_size=bs_test,\n",
    "                          shuffle=False,\n",
    "                          num_workers=num_workers)\n",
    "\n",
    "test_loader_ff = DataLoader(dataset=test_dataset_ff,\n",
    "                          batch_size=bs_test,\n",
    "                          shuffle=False,\n",
    "                          num_workers=num_workers)"
   ]
  },
  {
   "cell_type": "code",
   "execution_count": 5,
   "metadata": {},
   "outputs": [],
   "source": [
    "# build model, define loss and create optimizer\n",
    "model = resnet34(weights=ResNet34_Weights.DEFAULT)\n",
    "model.to(device)\n",
    "num_attr_predicted = train_dataset.y.shape[1]\n",
    "fc_layer = nn.Linear(1000, num_attr_predicted, device=device)\n",
    "sigmoid = nn.Sigmoid()\n",
    "bin_ce = nn.BCELoss()\n",
    "params = list(model.parameters()) + list(fc_layer.parameters())\n",
    "optimizer = torch.optim.Adam(params, lr=lr)"
   ]
  },
  {
   "cell_type": "code",
   "execution_count": 6,
   "metadata": {},
   "outputs": [],
   "source": [
    "# define evaluation procedure\n",
    "def evaluate_metrics(model, data_loader, device, show_tqdm=False):\n",
    "\n",
    "    correct_predictions = np.zeros(len(races))\n",
    "    true_pos = np.zeros(len(races))\n",
    "    true_neg = np.zeros(len(races))\n",
    "    positive_preds = np.zeros(len(races))\n",
    "    positive_targets = np.zeros(len(races))\n",
    "    num_examples = np.zeros(len(races))\n",
    "    total_examples = len(data_loader.dataset) \n",
    "\n",
    "    # total_it = int(np.ceil(total_examples / data_loader.batch_size))\n",
    "    for _, (features, targets, gt_races) in tqdm(enumerate(data_loader), total=len(data_loader), desc=\"Evaluating\", disable=not show_tqdm):\n",
    "\n",
    "        features = features.to(device)\n",
    "        probas = sigmoid(fc_layer(model(features)))\n",
    "        prediction = (probas >= 0.5).cpu().numpy()\n",
    "        targets = targets.numpy()\n",
    "\n",
    "        # prepape annotated races for metric split afterwards\n",
    "        gt_races = np.array([races.index(race) for race in gt_races])\n",
    "        gt_races = np.expand_dims(gt_races, axis=1)\n",
    "        gt_races = np.broadcast_to(gt_races, prediction.shape)\n",
    "\n",
    "        # collect the necessary data split by annotated race\n",
    "        for j in range(len(races)):\n",
    "            correct_preds = (gt_races == j) & (prediction == targets)\n",
    "            true_pos[j] += (correct_preds & (prediction == 1)).sum()\n",
    "            true_neg[j] += (correct_preds & (prediction == 0)).sum()\n",
    "            correct_predictions[j] += correct_preds.sum()\n",
    "            positive_targets[j] += ((gt_races == j) & (targets == 1)).sum()\n",
    "            positive_preds[j] += np.where(gt_races == j, prediction, 0).sum()\n",
    "            num_examples[j] += (gt_races == j).sum()\n",
    "\n",
    "    # calculate and return metrics    \n",
    "    zero = 1e-10\n",
    "    print(\"Race distribution:\", num_examples/targets.shape[1], \"Total:\", total_examples)\n",
    "\n",
    "    total_accuracy = correct_predictions.sum() / num_examples.sum()\n",
    "    accuracies = correct_predictions / (num_examples + zero)\n",
    "    accs_out = [f\"{a:.2%}\" for a in accuracies]\n",
    "    max_acc_disparity = np.log(max(accuracies)/min(accuracies))\n",
    "\n",
    "    total_precision = true_pos.sum() / (positive_preds.sum() + zero)\n",
    "    precisions = [f\"{p:.2%}\" for p in true_pos / (positive_preds + zero)]\n",
    "\n",
    "    total_recall = true_pos.sum() / (positive_targets.sum() + zero)\n",
    "    recalls = [f\"{r:.2%}\" for r in true_pos / (positive_targets + zero)]\n",
    "    return total_accuracy, accs_out, max_acc_disparity, total_precision, precisions, total_recall, recalls\n",
    "\n",
    "\n",
    "def get_elapsed_time(start_time):\n",
    "    elapsed = int(time.time() - start_time)\n",
    "    m, s = divmod(elapsed, 60)\n",
    "    h, m = divmod(m, 60)\n",
    "    return f\"{h}:{m:02d}:{s:02d}\""
   ]
  },
  {
   "cell_type": "code",
   "execution_count": 7,
   "metadata": {},
   "outputs": [
    {
     "name": "stdout",
     "output_type": "stream",
     "text": [
      "Initiating experiment 'CelebA only white' with a lr of 2e-05 and 86744 samples on device cuda:4\n"
     ]
    },
    {
     "name": "stderr",
     "output_type": "stream",
     "text": [
      "Epoch 01/10: 100%|██████████| 678/678 [04:01<00:00,  2.81it/s, loss=0.0381]\n"
     ]
    },
    {
     "name": "stdout",
     "output_type": "stream",
     "text": [
      "Race distribution: [1556. 1516. 1623. 1209. 1415. 1550. 2085.] Total: 10954\n",
      "Evaluation epoch 01/10:\n",
      "Total accuracy: 81.50%\t| Accuracies:\t['74.23%', '80.80%', '83.92%', '87.18%', '79.86%', '79.61%', '84.75%'] | Max disparity: 0.1608\n",
      "Total precision: 81.22%\t| Precisions:\t['72.36%', '77.63%', '80.86%', '89.73%', '82.80%', '82.15%', '83.22%']\n",
      "Total recall: 84.55%\t| Recalls:\t['80.60%', '86.19%', '87.89%', '91.39%', '77.28%', '75.80%', '89.75%']\n",
      "\n"
     ]
    },
    {
     "name": "stderr",
     "output_type": "stream",
     "text": [
      "Epoch 02/10: 100%|██████████| 678/678 [03:56<00:00,  2.87it/s, loss=0.0272]\n"
     ]
    },
    {
     "name": "stdout",
     "output_type": "stream",
     "text": [
      "Race distribution: [1556. 1516. 1623. 1209. 1415. 1550. 2085.] Total: 10954\n",
      "Evaluation epoch 02/10:\n",
      "Total accuracy: 79.45%\t| Accuracies:\t['73.07%', '77.37%', '81.82%', '86.19%', '77.46%', '78.65%', '81.92%'] | Max disparity: 0.1651\n",
      "Total precision: 76.45%\t| Precisions:\t['68.85%', '71.05%', '76.27%', '86.96%', '76.33%', '77.87%', '78.68%']\n",
      "Total recall: 88.35%\t| Recalls:\t['86.86%', '91.90%', '91.17%', '93.48%', '82.04%', '80.18%', '91.09%']\n",
      "\n"
     ]
    },
    {
     "name": "stderr",
     "output_type": "stream",
     "text": [
      "Epoch 03/10: 100%|██████████| 678/678 [03:53<00:00,  2.90it/s, loss=0.0021]\n"
     ]
    },
    {
     "name": "stdout",
     "output_type": "stream",
     "text": [
      "Race distribution: [1556. 1516. 1623. 1209. 1415. 1550. 2085.] Total: 10954\n",
      "Evaluation epoch 03/10:\n",
      "Total accuracy: 83.11%\t| Accuracies:\t['76.03%', '82.65%', '84.90%', '88.01%', '81.98%', '82.26%', '85.90%'] | Max disparity: 0.1463\n",
      "Total precision: 82.25%\t| Precisions:\t['71.73%', '79.10%', '81.57%', '91.03%', '84.58%', '84.29%', '85.03%']\n",
      "Total recall: 86.79%\t| Recalls:\t['87.98%', '88.45%', '89.28%', '91.14%', '79.86%', '79.41%', '89.57%']\n",
      "\n"
     ]
    },
    {
     "name": "stderr",
     "output_type": "stream",
     "text": [
      "Epoch 04/10: 100%|██████████| 678/678 [03:50<00:00,  2.94it/s, loss=0.0001]\n"
     ]
    },
    {
     "name": "stdout",
     "output_type": "stream",
     "text": [
      "Race distribution: [1556. 1516. 1623. 1209. 1415. 1550. 2085.] Total: 10954\n",
      "Evaluation epoch 04/10:\n",
      "Total accuracy: 81.66%\t| Accuracies:\t['76.16%', '81.93%', '84.53%', '87.34%', '78.66%', '77.35%', '85.28%'] | Max disparity: 0.1371\n",
      "Total precision: 83.83%\t| Precisions:\t['74.43%', '80.67%', '83.79%', '91.77%', '86.39%', '83.70%', '86.55%']\n",
      "Total recall: 80.92%\t| Recalls:\t['81.60%', '83.67%', '84.74%', '89.18%', '69.93%', '68.08%', '86.01%']\n",
      "\n"
     ]
    },
    {
     "name": "stderr",
     "output_type": "stream",
     "text": [
      "Epoch 05/10: 100%|██████████| 678/678 [03:51<00:00,  2.93it/s, loss=0.0001]\n"
     ]
    },
    {
     "name": "stdout",
     "output_type": "stream",
     "text": [
      "Race distribution: [1556. 1516. 1623. 1209. 1415. 1550. 2085.] Total: 10954\n",
      "Evaluation epoch 05/10:\n",
      "Total accuracy: 82.32%\t| Accuracies:\t['75.96%', '81.20%', '85.09%', '87.68%', '80.42%', '79.55%', '85.95%'] | Max disparity: 0.1434\n",
      "Total precision: 81.57%\t| Precisions:\t['71.62%', '77.92%', '82.15%', '89.90%', '82.62%', '81.86%', '85.40%']\n",
      "Total recall: 85.98%\t| Recalls:\t['88.11%', '86.72%', '88.78%', '92.00%', '78.91%', '76.06%', '89.13%']\n",
      "\n"
     ]
    },
    {
     "name": "stderr",
     "output_type": "stream",
     "text": [
      "Epoch 06/10: 100%|██████████| 678/678 [03:53<00:00,  2.90it/s, loss=0.0737]\n"
     ]
    },
    {
     "name": "stdout",
     "output_type": "stream",
     "text": [
      "Race distribution: [1556. 1516. 1623. 1209. 1415. 1550. 2085.] Total: 10954\n",
      "Evaluation epoch 06/10:\n",
      "Total accuracy: 82.44%\t| Accuracies:\t['76.74%', '82.26%', '84.84%', '88.25%', '78.73%', '80.06%', '85.85%'] | Max disparity: 0.1399\n",
      "Total precision: 83.92%\t| Precisions:\t['75.62%', '80.48%', '83.64%', '91.68%', '84.55%', '84.93%', '86.30%']\n",
      "Total recall: 82.61%\t| Recalls:\t['80.73%', '84.86%', '85.75%', '90.77%', '72.24%', '73.23%', '87.61%']\n",
      "\n"
     ]
    },
    {
     "name": "stderr",
     "output_type": "stream",
     "text": [
      "Epoch 07/10: 100%|██████████| 678/678 [03:50<00:00,  2.94it/s, loss=0.0001]\n"
     ]
    },
    {
     "name": "stdout",
     "output_type": "stream",
     "text": [
      "Race distribution: [1556. 1516. 1623. 1209. 1415. 1550. 2085.] Total: 10954\n",
      "Evaluation epoch 07/10:\n",
      "Total accuracy: 82.10%\t| Accuracies:\t['75.13%', '80.61%', '84.60%', '87.76%', '81.41%', '79.81%', '85.32%'] | Max disparity: 0.1554\n",
      "Total precision: 81.44%\t| Precisions:\t['72.94%', '76.84%', '80.96%', '90.30%', '83.52%', '80.77%', '84.58%']\n",
      "Total recall: 85.67%\t| Recalls:\t['81.98%', '87.25%', '89.53%', '91.64%', '80.00%', '78.38%', '88.95%']\n",
      "\n"
     ]
    },
    {
     "name": "stderr",
     "output_type": "stream",
     "text": [
      "Epoch 08/10: 100%|██████████| 678/678 [03:51<00:00,  2.93it/s, loss=0.0028]\n"
     ]
    },
    {
     "name": "stdout",
     "output_type": "stream",
     "text": [
      "Race distribution: [1556. 1516. 1623. 1209. 1415. 1550. 2085.] Total: 10954\n",
      "Evaluation epoch 08/10:\n",
      "Total accuracy: 82.13%\t| Accuracies:\t['75.58%', '80.47%', '84.17%', '88.59%', '79.58%', '80.52%', '85.85%'] | Max disparity: 0.1588\n",
      "Total precision: 81.55%\t| Precisions:\t['71.44%', '76.60%', '81.38%', '90.91%', '83.09%', '84.17%', '84.66%']\n",
      "Total recall: 85.57%\t| Recalls:\t['87.36%', '87.38%', '87.64%', '92.25%', '76.19%', '75.29%', '90.02%']\n",
      "\n"
     ]
    },
    {
     "name": "stderr",
     "output_type": "stream",
     "text": [
      "Epoch 09/10: 100%|██████████| 678/678 [03:51<00:00,  2.93it/s, loss=0.0056]\n"
     ]
    },
    {
     "name": "stdout",
     "output_type": "stream",
     "text": [
      "Race distribution: [1556. 1516. 1623. 1209. 1415. 1550. 2085.] Total: 10954\n",
      "Evaluation epoch 09/10:\n",
      "Total accuracy: 81.97%\t| Accuracies:\t['75.19%', '82.26%', '83.24%', '87.59%', '79.58%', '80.26%', '85.47%'] | Max disparity: 0.1526\n",
      "Total precision: 81.90%\t| Precisions:\t['70.96%', '79.95%', '81.12%', '91.18%', '82.70%', '83.50%', '85.21%']\n",
      "Total recall: 84.60%\t| Recalls:\t['87.48%', '85.79%', '85.62%', '90.28%', '76.73%', '75.55%', '88.32%']\n",
      "\n"
     ]
    },
    {
     "name": "stderr",
     "output_type": "stream",
     "text": [
      "Epoch 10/10: 100%|██████████| 678/678 [03:51<00:00,  2.93it/s, loss=0.0064]\n"
     ]
    },
    {
     "name": "stdout",
     "output_type": "stream",
     "text": [
      "Race distribution: [1556. 1516. 1623. 1209. 1415. 1550. 2085.] Total: 10954\n",
      "Evaluation epoch 10/10:\n",
      "Total accuracy: 82.76%\t| Accuracies:\t['76.35%', '83.44%', '85.03%', '87.26%', '80.85%', '80.26%', '85.85%'] | Max disparity: 0.1336\n",
      "Total precision: 84.66%\t| Precisions:\t['75.75%', '81.93%', '83.70%', '92.41%', '86.36%', '85.10%', '87.35%']\n",
      "Total recall: 82.32%\t| Recalls:\t['79.35%', '85.52%', '86.13%', '88.31%', '74.97%', '73.49%', '86.19%']\n",
      "\n",
      "Total Training Time: 0:41:58\n"
     ]
    }
   ],
   "source": [
    "# Training loop\n",
    "start_time = time.time()\n",
    "\n",
    "print(f\"Initiating experiment '{experiments[exp]}' with a lr of {lr} and {size_train} samples on device {device}\")\n",
    "\n",
    "\n",
    "for epoch in range(num_epochs):\n",
    "    \n",
    "    model.train()\n",
    "    pbar = tqdm(enumerate(train_loader), total=len(train_loader), desc=f\"Epoch {(epoch+1):02d}/{num_epochs:02d}\")\n",
    "    for _, (features, targets, _) in pbar:\n",
    "        \n",
    "        features = features.to(device)\n",
    "        targets = targets.float().to(device)\n",
    "            \n",
    "        # forward and backward pass\n",
    "        model_output = model(features)\n",
    "        logits = sigmoid(fc_layer(model_output))\n",
    "        loss = bin_ce(logits, targets)\n",
    "        pbar.set_postfix({\"loss\": f\"{loss.item():.4f}\"})\n",
    "\n",
    "        optimizer.zero_grad()\n",
    "        \n",
    "        loss.backward()\n",
    "        \n",
    "        # update model params \n",
    "        optimizer.step()\n",
    "        \n",
    "        # if batch_idx == 0:\n",
    "        #     break \n",
    "\n",
    "    model.eval()\n",
    "    with torch.set_grad_enabled(False): # save memory during inference\n",
    "        acc_total, accs, max_acc_disp, prec_total, precs, rec_total, recs = evaluate_metrics(model, val_loader, device)\n",
    "        print(f\"Evaluation epoch {(epoch+1):02d}/{num_epochs:02d}:\")\n",
    "        print(f\"Total accuracy: {acc_total:.2%}\\t| Accuracies:\\t{accs} | Max disparity: {max_acc_disp:.4f}\")\n",
    "        print(f\"Total precision: {prec_total:.2%}\\t| Precisions:\\t{precs}\")\n",
    "        print(f\"Total recall: {rec_total:.2%}\\t| Recalls:\\t{recs}\\n\")\n",
    "    \n",
    "print(f\"Total Training Time: {get_elapsed_time(start_time)}\")"
   ]
  },
  {
   "cell_type": "code",
   "execution_count": 8,
   "metadata": {},
   "outputs": [
    {
     "name": "stderr",
     "output_type": "stream",
     "text": [
      "Evaluating: 100%|██████████| 156/156 [00:28<00:00,  5.41it/s]"
     ]
    },
    {
     "name": "stdout",
     "output_type": "stream",
     "text": [
      "Race distribution: [ 1461.   553.  1269.  1538.   311.  1777. 13053.] Total: 19962\n",
      "\n",
      "Evaluation CelebA test set (CelebA only white):\n",
      "Total accuracy: 97.33%\t| Accuracies:\t['93.84%', '97.29%', '98.74%', '97.53%', '91.64%', '95.78%', '97.91%']\n",
      "Maximum accuracy disparity: 0.0746\n",
      "Total precision: 98.23%\t| Precisions:\t['97.80%', '97.55%', '97.97%', '98.37%', '94.70%', '96.64%', '98.60%']\n",
      "Total recall: 94.80%\t| Recalls:\t['91.20%', '95.22%', '97.40%', '96.52%', '86.81%', '90.07%', '95.74%']\n",
      "\n"
     ]
    },
    {
     "name": "stderr",
     "output_type": "stream",
     "text": [
      "\n",
      "Evaluating: 100%|██████████| 86/86 [00:15<00:00,  5.71it/s]\n"
     ]
    },
    {
     "name": "stdout",
     "output_type": "stream",
     "text": [
      "Race distribution: [1556. 1516. 1623. 1209. 1415. 1550. 2085.] Total: 10954\n",
      "\n",
      "Evaluation FairFace test set (CelebA only white):\n",
      "Total accuracy: 82.76%\t| Accuracies:\t['76.35%', '83.44%', '85.03%', '87.26%', '80.85%', '80.26%', '85.85%']\n",
      "Maximum accuracy disparity: 0.1336\n",
      "Total precision: 84.66%\t| Precisions:\t['75.75%', '81.93%', '83.70%', '92.41%', '86.36%', '85.10%', '87.35%']\n",
      "Total recall: 82.32%\t| Recalls:\t['79.35%', '85.52%', '86.13%', '88.31%', '74.97%', '73.49%', '86.19%']\n",
      "\n"
     ]
    }
   ],
   "source": [
    "# evaluate experiment on test sets\n",
    "with torch.set_grad_enabled(False): # save memory during inference\n",
    "    # evaluation CelebA\n",
    "    acc_total, accs, max_acc_disp, prec_total, precs, rec_total, recs = evaluate_metrics(model, test_loader_celeb, device, show_tqdm=True)\n",
    "    print(f\"\\nEvaluation CelebA test set ({experiments[exp]}):\")\n",
    "    print(f\"Total accuracy: {acc_total:.2%}\\t| Accuracies:\\t{accs}\")\n",
    "    print(f\"Maximum accuracy disparity: {max_acc_disp:.4f}\")\n",
    "    print(f\"Total precision: {prec_total:.2%}\\t| Precisions:\\t{precs}\")\n",
    "    print(f\"Total recall: {rec_total:.2%}\\t| Recalls:\\t{recs}\\n\")\n",
    "\n",
    "    # evaluation FairFace\n",
    "    acc_total, accs, max_acc_disp, prec_total, precs, rec_total, recs = evaluate_metrics(model, test_loader_ff, device, show_tqdm=True)\n",
    "    print(f\"\\nEvaluation FairFace test set ({experiments[exp]}):\")\n",
    "    print(f\"Total accuracy: {acc_total:.2%}\\t| Accuracies:\\t{accs}\")\n",
    "    print(f\"Maximum accuracy disparity: {max_acc_disp:.4f}\")\n",
    "    print(f\"Total precision: {prec_total:.2%}\\t| Precisions:\\t{precs}\")\n",
    "    print(f\"Total recall: {rec_total:.2%}\\t| Recalls:\\t{recs}\\n\")\n"
   ]
  }
 ],
 "metadata": {
  "kernelspec": {
   "display_name": "Python 3",
   "language": "python",
   "name": "python3"
  },
  "language_info": {
   "codemirror_mode": {
    "name": "ipython",
    "version": 3
   },
   "file_extension": ".py",
   "mimetype": "text/x-python",
   "name": "python",
   "nbconvert_exporter": "python",
   "pygments_lexer": "ipython3",
   "version": "3.7.16"
  },
  "orig_nbformat": 4,
  "vscode": {
   "interpreter": {
    "hash": "949777d72b0d2535278d3dc13498b2535136f6dfe0678499012e853ee9abcab1"
   }
  }
 },
 "nbformat": 4,
 "nbformat_minor": 2
}
