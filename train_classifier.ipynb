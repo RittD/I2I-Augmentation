{
 "cells": [
  {
   "attachments": {},
   "cell_type": "markdown",
   "metadata": {},
   "source": [
    "# Let's train a classifier"
   ]
  },
  {
   "cell_type": "code",
   "execution_count": null,
   "metadata": {},
   "outputs": [],
   "source": [
    "# TODO\n",
    "# 1. Look up structure\n",
    "# 2. Load x_train, extract y_train\n",
    "# 3. Load x_val/x_test, create/extract y_val/y_test\n",
    "# 4. write down classifier\n",
    "# 5. train classifier\n",
    "# 6. evaluate classifier with test_data"
   ]
  },
  {
   "cell_type": "code",
   "execution_count": null,
   "metadata": {},
   "outputs": [],
   "source": [
    "import os\n",
    "os.system(\"pip install torchvision\")\n",
    "import time\n",
    "\n",
    "import numpy as np\n",
    "import pandas as pd\n",
    "\n",
    "import torch\n",
    "import torch.nn as nn\n",
    "import torch.nn.functional as F\n",
    "\n",
    "from torch.utils.data import Dataset\n",
    "from torch.utils.data import DataLoader\n",
    "\n",
    "from torchvision import datasets\n",
    "from torchvision import transforms\n",
    "\n",
    "import time\n",
    "\n",
    "import matplotlib.pyplot as plt\n",
    "from PIL import Image\n",
    "\n",
    "\n",
    "if torch.cuda.is_available():\n",
    "    torch.backends.cudnn.deterministic = True"
   ]
  },
  {
   "cell_type": "code",
   "execution_count": null,
   "metadata": {},
   "outputs": [],
   "source": [
    "# set paths and constants\n",
    "attr_csv_path = \"datasets/celeba/list_attr_celeba.txt\"\n",
    "train_data_path = \"\"\n",
    "\n",
    "size_train = 500\n",
    "size_val = 1000\n",
    "images_per_image_id = 7"
   ]
  },
  {
   "cell_type": "code",
   "execution_count": null,
   "metadata": {},
   "outputs": [],
   "source": [
    "# load all labels\n",
    "\n",
    "all_labels = pd.read_csv(attr_csv_path, sep=\"\\s+\", skiprows=1).rename_axis(\"image_name\").reset_index().replace(-1, 0)\n",
    "# print(labels.head())\n",
    "\n",
    "# create training and validation labels out off all_labels\n",
    "y_train = pd.DataFrame(np.repeat(all_labels[:size_train].values, images_per_image_id, axis=0))\n",
    "y_train.columns = all_labels.columns\n",
    "\n",
    "y_val = all_labels[-1000:]\n",
    "\n",
    "print(\"y_train shape:\", y_train.shape)\n",
    "print(\"y_val shape:\", y_val.shape)"
   ]
  }
 ],
 "metadata": {
  "kernelspec": {
   "display_name": "Python 3",
   "language": "python",
   "name": "python3"
  },
  "language_info": {
   "codemirror_mode": {
    "name": "ipython",
    "version": 3
   },
   "file_extension": ".py",
   "mimetype": "text/x-python",
   "name": "python",
   "nbconvert_exporter": "python",
   "pygments_lexer": "ipython3",
   "version": "3.7.16"
  },
  "orig_nbformat": 4,
  "vscode": {
   "interpreter": {
    "hash": "949777d72b0d2535278d3dc13498b2535136f6dfe0678499012e853ee9abcab1"
   }
  }
 },
 "nbformat": 4,
 "nbformat_minor": 2
}
