{
 "cells": [
  {
   "attachments": {},
   "cell_type": "markdown",
   "metadata": {},
   "source": [
    "# Let's train a classifier"
   ]
  },
  {
   "cell_type": "code",
   "execution_count": 1,
   "metadata": {},
   "outputs": [
    {
     "data": {
      "text/plain": [
       "<torch._C.Generator at 0x7f1ce8c31490>"
      ]
     },
     "execution_count": 1,
     "metadata": {},
     "output_type": "execute_result"
    }
   ],
   "source": [
    "import os\n",
    "# os.system(\"pip install pandas\")\n",
    "# os.system(\"pip install torchvision\")\n",
    "os.system(\"CUDA_LAUNCH_BLOCKING=1\")\n",
    "import time\n",
    "\n",
    "import numpy as np\n",
    "import pandas as pd\n",
    "\n",
    "import torch\n",
    "import torch.nn as nn\n",
    "\n",
    "from torch.utils.data import Dataset\n",
    "from torch.utils.data import DataLoader\n",
    "\n",
    "from torchvision import transforms\n",
    "from torchvision.models import resnet34, ResNet34_Weights\n",
    "\n",
    "import time\n",
    "\n",
    "import matplotlib.pyplot as plt\n",
    "from PIL import Image\n",
    "from tqdm import tqdm\n",
    "\n",
    "\n",
    "if torch.cuda.is_available():\n",
    "    torch.backends.cudnn.deterministic = True\n",
    "\n",
    "torch.manual_seed(1)"
   ]
  },
  {
   "cell_type": "code",
   "execution_count": 2,
   "metadata": {},
   "outputs": [],
   "source": [
    "# choose experiment\n",
    "size_train = 10000 #86744\n",
    "experiments = [\"FairFace\", \"CelebA\", \"CelebA only white\", \"CelebA augmented\"]\n",
    "exp = 1\n",
    "\n",
    "# set celeb paths\n",
    "celeb_attr_path = \"datasets/celeba/list_attr_celeba.txt\"\n",
    "celeb_partitions_path = 'datasets/celeba/list_eval_partition.txt'\n",
    "celeb_race_path = \"CelebA/races/races_ff.csv\"\n",
    "celeb_label_dir = \"CelebA/labels_split/\"\n",
    "celeb_img_dir = \"CelebA/cropped/\"\n",
    "celeb_img_aug_dir = \"CelebA/augmented/\"\n",
    "celeb_train_csv = f\"train_{size_train}_samples_random.csv\" # \"train_total.csv\"\n",
    "celeb_train_only_white_csv = f\"train_{size_train}_samples_random_white.csv\"\n",
    "celeb_train_aug_csv = f\"train_aug_{size_train}_samples.csv\"\n",
    "celeb_val_csv = \"val_total.csv\"\n",
    "celeb_test_csv = \"test_total.csv\"\n",
    "\n",
    "\n",
    "# set fairface paths\n",
    "ff_img_dir = \"fairface/dataset/fairface-img-margin125-trainval\"\n",
    "ff_label_dir = \"fairface/dataset/\"\n",
    "ff_train_csv = \"fairface_label_train.csv\"\n",
    "ff_val_csv = \"fairface_label_val.csv\"\n",
    "\n",
    "\n",
    "# set hyperparameters\n",
    "learning_rates = [5e-5, 5e-5, 5e-5, 2e-5]\n",
    "lr = learning_rates[exp]\n",
    "num_epochs = 10\n",
    "\n",
    "# Architecture\n",
    "feat_size = (256, 256)\n",
    "bs_train = 128\n",
    "bs_val = 128\n",
    "bs_test = 128\n",
    "device = 'cuda:3'\n",
    "\n",
    "\n",
    "races = [\"Black\", \"Indian\", \"Latino\", \"Middle Eastern\", \"Southeast Asian\", \"East Asian\", \"White\"]\n",
    "ignored_attributes = [\"Black_Hair\", \"Blond_Hair\", \"Brown_Hair\", \"Pale_Skin\"]"
   ]
  },
  {
   "cell_type": "code",
   "execution_count": 3,
   "metadata": {},
   "outputs": [],
   "source": [
    "# define datasets\n",
    "class CelebaDataset(Dataset):\n",
    "    \"\"\"Custom Dataset for loading CelebA face images\"\"\"\n",
    "\n",
    "    def __init__(self, csv_path, img_dir, transform=None, ignored_attributes=[]):\n",
    "    \n",
    "        df = pd.read_csv(csv_path, index_col=None)\n",
    "        # print(df.head())\n",
    "        self.img_dir = img_dir\n",
    "        self.csv_path = csv_path\n",
    "        self.img_names = df[\"Image_Name\"].values\n",
    "        self.races = df[\"Race\"].values\n",
    "        drop_cols = [\"Image_Name\", \"Race\"] + ignored_attributes\n",
    "        self.y = np.expand_dims(np.array(df[\"Male\"].values), axis=1) #df.drop(drop_cols, axis=1).values #\n",
    "        self.transform = transform\n",
    "\n",
    "    def __getitem__(self, index):\n",
    "        img = Image.open(os.path.join(self.img_dir,\n",
    "                                      self.img_names[index]))\n",
    "        \n",
    "        if self.transform is not None:\n",
    "            img = self.transform(img)\n",
    "        \n",
    "        label = self.y[index]\n",
    "        gt_race = self.races[index]\n",
    "        return img, label, gt_race\n",
    "\n",
    "    def __len__(self):\n",
    "        return self.y.shape[0]\n",
    "    \n",
    "\n",
    "\n",
    "class FairFaceDataset(Dataset):\n",
    "    \"\"\"Custom Dataset for loading FairFace images\"\"\"\n",
    "\n",
    "    def __init__(self, csv_path, img_dir, transform=None):\n",
    "    \n",
    "        df = pd.read_csv(csv_path, index_col=None)\n",
    "        # print(df.head())\n",
    "        self.img_dir = img_dir\n",
    "        self.csv_path = csv_path\n",
    "        self.img_names = df[\"file\"].values\n",
    "        self.races = df[\"race\"].replace(\"Latino_Hispanic\", \"Latino\").values\n",
    "        gender = df[\"gender\"].replace(\"Male\", 1).replace(\"Female\", 0)\n",
    "        self.y = np.expand_dims(np.array(gender.values), axis=1)\n",
    "        self.transform = transform\n",
    "\n",
    "    def __getitem__(self, index):\n",
    "        img = Image.open(os.path.join(self.img_dir,\n",
    "                                      self.img_names[index]))\n",
    "        \n",
    "        if self.transform is not None:\n",
    "            img = self.transform(img)\n",
    "        \n",
    "        label = self.y[index]\n",
    "        gt_race = self.races[index]\n",
    "        return img, label, gt_race\n",
    "\n",
    "    def __len__(self):\n",
    "        return self.y.shape[0]"
   ]
  },
  {
   "cell_type": "code",
   "execution_count": 4,
   "metadata": {},
   "outputs": [],
   "source": [
    "# create datasets based on current experiment\n",
    "num_workers = 6\n",
    "custom_transform = transforms.Compose([transforms.Resize(feat_size),\n",
    "                                       transforms.ToTensor()])\n",
    "\n",
    "# training dataset\n",
    "if experiments[exp].startswith(\"CelebA\"):\n",
    "\n",
    "    if experiments[exp].endswith(\"augmented\"):\n",
    "        train_csv = celeb_train_aug_csv\n",
    "        train_img_dir = celeb_img_aug_dir\n",
    "    \n",
    "    else:\n",
    "        if \"only white\" in experiments[exp]:\n",
    "            train_csv = celeb_train_only_white_csv\n",
    "        else:\n",
    "            train_csv = celeb_train_csv\n",
    "        train_img_dir = celeb_img_dir\n",
    "\n",
    "    train_dataset = CelebaDataset(csv_path=celeb_label_dir + train_csv,\n",
    "                                img_dir=train_img_dir,\n",
    "                                transform=custom_transform,\n",
    "                                ignored_attributes=ignored_attributes)\n",
    "\n",
    "if experiments[exp].startswith(\"FairFace\"):\n",
    "    train_dataset = FairFaceDataset(csv_path=ff_label_dir + ff_train_csv,\n",
    "                                    img_dir=ff_img_dir,\n",
    "                                    transform=custom_transform)\n",
    "\n",
    "\n",
    "# validation dataset\n",
    "val_dataset = FairFaceDataset(csv_path=ff_label_dir + ff_val_csv,\n",
    "                                img_dir=ff_img_dir,\n",
    "                                transform=custom_transform)\n",
    "\n",
    "# val_dataset = CelebaDataset(csv_path=celeb_label_dir + celeb_val_csv,\n",
    "#                             img_dir=celeb_img_dir,\n",
    "#                             transform=custom_transform,\n",
    "#                             ignored_attributes=ignored_attributes)\n",
    "\n",
    "\n",
    "# test datasets\n",
    "test_dataset_celeb = CelebaDataset(csv_path=celeb_label_dir + celeb_test_csv,\n",
    "                            img_dir=celeb_img_dir,\n",
    "                            transform=custom_transform,\n",
    "                            ignored_attributes=ignored_attributes)\n",
    "\n",
    "test_dataset_ff = val_dataset\n",
    "\n",
    "\n",
    "# create dataloaders on these datasets\n",
    "train_loader = DataLoader(dataset=train_dataset,\n",
    "                          batch_size=bs_train,\n",
    "                          shuffle=True,\n",
    "                          num_workers=num_workers)\n",
    "\n",
    "val_loader = DataLoader(dataset=val_dataset,\n",
    "                          batch_size=bs_val,\n",
    "                          shuffle=False,\n",
    "                          num_workers=num_workers)\n",
    "\n",
    "test_loader_celeb = DataLoader(dataset=test_dataset_celeb,\n",
    "                          batch_size=bs_test,\n",
    "                          shuffle=False,\n",
    "                          num_workers=num_workers)\n",
    "\n",
    "test_loader_ff = DataLoader(dataset=test_dataset_ff,\n",
    "                          batch_size=bs_test,\n",
    "                          shuffle=False,\n",
    "                          num_workers=num_workers)"
   ]
  },
  {
   "cell_type": "code",
   "execution_count": 5,
   "metadata": {},
   "outputs": [],
   "source": [
    "# build model, define loss and create optimizer\n",
    "model = resnet34(weights=ResNet34_Weights.DEFAULT)\n",
    "model.to(device)\n",
    "num_attr_predicted = train_dataset.y.shape[1]\n",
    "fc_layer = nn.Linear(1000, num_attr_predicted, device=device)\n",
    "sigmoid = nn.Sigmoid()\n",
    "bin_ce = nn.BCELoss()\n",
    "params = list(model.parameters()) + list(fc_layer.parameters())\n",
    "optimizer = torch.optim.Adam(params, lr=lr)"
   ]
  },
  {
   "cell_type": "code",
   "execution_count": 6,
   "metadata": {},
   "outputs": [],
   "source": [
    "# define evaluation procedure\n",
    "def evaluate_metrics(model, data_loader, device, show_tqdm=False):\n",
    "\n",
    "    correct_predictions = np.zeros(len(races))\n",
    "    true_pos = np.zeros(len(races))\n",
    "    true_neg = np.zeros(len(races))\n",
    "    positive_preds = np.zeros(len(races))\n",
    "    positive_targets = np.zeros(len(races))\n",
    "    num_examples = np.zeros(len(races))\n",
    "    total_examples = len(data_loader.dataset) \n",
    "\n",
    "    # total_it = int(np.ceil(total_examples / data_loader.batch_size))\n",
    "    for _, (features, targets, gt_races) in tqdm(enumerate(data_loader), total=len(data_loader), desc=\"Evaluating\", disable=not show_tqdm):\n",
    "\n",
    "        features = features.to(device)\n",
    "        probas = sigmoid(fc_layer(model(features)))\n",
    "        prediction = (probas >= 0.5).cpu().numpy()\n",
    "        targets = targets.numpy()\n",
    "\n",
    "        # prepape annotated races for metric split afterwards\n",
    "        gt_races = np.array([races.index(race) for race in gt_races])\n",
    "        gt_races = np.expand_dims(gt_races, axis=1)\n",
    "        gt_races = np.broadcast_to(gt_races, prediction.shape)\n",
    "\n",
    "        # collect the necessary data split by annotated race\n",
    "        for j in range(len(races)):\n",
    "            correct_preds = (gt_races == j) & (prediction == targets)\n",
    "            true_pos[j] += (correct_preds & (prediction == 1)).sum()\n",
    "            true_neg[j] += (correct_preds & (prediction == 0)).sum()\n",
    "            correct_predictions[j] += correct_preds.sum()\n",
    "            positive_targets[j] += ((gt_races == j) & (targets == 1)).sum()\n",
    "            positive_preds[j] += np.where(gt_races == j, prediction, 0).sum()\n",
    "            num_examples[j] += (gt_races == j).sum()\n",
    "\n",
    "    # calculate and return metrics    \n",
    "    zero = 1e-10\n",
    "    print(\"Race distribution:\", num_examples/targets.shape[1], \"Total:\", total_examples)\n",
    "\n",
    "    total_accuracy = correct_predictions.sum() / num_examples.sum()\n",
    "    accuracies = correct_predictions / (num_examples + zero)\n",
    "    accs_out = [f\"{a:.2%}\" for a in accuracies]\n",
    "    max_acc_disparity = np.log(max(accuracies)/min(accuracies))\n",
    "\n",
    "    total_precision = true_pos.sum() / (positive_preds.sum() + zero)\n",
    "    precisions = [f\"{p:.2%}\" for p in true_pos / (positive_preds + zero)]\n",
    "\n",
    "    total_recall = true_pos.sum() / (positive_targets.sum() + zero)\n",
    "    recalls = [f\"{r:.2%}\" for r in true_pos / (positive_targets + zero)]\n",
    "    return total_accuracy, accs_out, max_acc_disparity, total_precision, precisions, total_recall, recalls\n",
    "\n",
    "\n",
    "def get_elapsed_time(start_time):\n",
    "    elapsed = int(time.time() - start_time)\n",
    "    m, s = divmod(elapsed, 60)\n",
    "    h, m = divmod(m, 60)\n",
    "    return f\"{h}:{m:02d}:{s:02d}\""
   ]
  },
  {
   "cell_type": "code",
   "execution_count": 7,
   "metadata": {},
   "outputs": [
    {
     "name": "stdout",
     "output_type": "stream",
     "text": [
      "Initiating experiment 'CelebA' with a lr of 5e-05 and 86744 samples on device cuda:3\n"
     ]
    },
    {
     "name": "stderr",
     "output_type": "stream",
     "text": [
      "Epoch 01/10: 100%|██████████| 678/678 [03:54<00:00,  2.90it/s, loss=0.0995]\n"
     ]
    },
    {
     "name": "stdout",
     "output_type": "stream",
     "text": [
      "Race distribution: [1556. 1516. 1623. 1209. 1415. 1550. 2085.] Total: 10954\n",
      "Evaluation epoch 01/10:\n",
      "Total accuracy: 82.91%\t| Accuracies:\t['75.84%', '81.13%', '85.27%', '88.42%', '82.26%', '80.00%', '87.05%'] | Max disparity: 0.1535\n",
      "Total precision: 81.48%\t| Precisions:\t['70.80%', '76.03%', '81.69%', '90.49%', '83.70%', '81.77%', '86.92%']\n",
      "Total recall: 87.59%\t| Recalls:\t['90.11%', '90.57%', '90.04%', '92.50%', '81.77%', '77.35%', '89.39%']\n",
      "\n"
     ]
    },
    {
     "name": "stderr",
     "output_type": "stream",
     "text": [
      "Epoch 02/10: 100%|██████████| 678/678 [03:53<00:00,  2.90it/s, loss=0.0092]\n"
     ]
    },
    {
     "name": "stdout",
     "output_type": "stream",
     "text": [
      "Race distribution: [1556. 1516. 1623. 1209. 1415. 1550. 2085.] Total: 10954\n",
      "Evaluation epoch 02/10:\n",
      "Total accuracy: 81.10%\t| Accuracies:\t['74.61%', '78.36%', '82.69%', '86.10%', '80.28%', '81.29%', '84.22%'] | Max disparity: 0.1432\n",
      "Total precision: 77.37%\t| Precisions:\t['69.31%', '71.84%', '76.61%', '86.52%', '78.01%', '79.02%', '80.90%']\n",
      "Total recall: 90.83%\t| Recalls:\t['90.74%', '92.83%', '92.94%', '93.97%', '86.39%', '85.33%', '92.51%']\n",
      "\n"
     ]
    },
    {
     "name": "stderr",
     "output_type": "stream",
     "text": [
      "Epoch 03/10: 100%|██████████| 678/678 [03:51<00:00,  2.93it/s, loss=0.0766]\n"
     ]
    },
    {
     "name": "stdout",
     "output_type": "stream",
     "text": [
      "Race distribution: [1556. 1516. 1623. 1209. 1415. 1550. 2085.] Total: 10954\n",
      "Evaluation epoch 03/10:\n",
      "Total accuracy: 82.89%\t| Accuracies:\t['76.93%', '81.20%', '85.21%', '87.59%', '81.27%', '81.81%', '85.95%'] | Max disparity: 0.1298\n",
      "Total precision: 81.41%\t| Precisions:\t['73.50%', '76.35%', '80.76%', '89.89%', '82.82%', '82.10%', '84.69%']\n",
      "Total recall: 87.66%\t| Recalls:\t['86.11%', '90.04%', '91.55%', '91.88%', '80.68%', '81.47%', '90.20%']\n",
      "\n"
     ]
    },
    {
     "name": "stderr",
     "output_type": "stream",
     "text": [
      "Epoch 04/10: 100%|██████████| 678/678 [04:01<00:00,  2.80it/s, loss=0.0163]\n"
     ]
    },
    {
     "name": "stdout",
     "output_type": "stream",
     "text": [
      "Race distribution: [1556. 1516. 1623. 1209. 1415. 1550. 2085.] Total: 10954\n",
      "Evaluation epoch 04/10:\n",
      "Total accuracy: 82.41%\t| Accuracies:\t['76.61%', '80.01%', '84.90%', '86.02%', '81.63%', '81.35%', '85.76%'] | Max disparity: 0.1159\n",
      "Total precision: 80.38%\t| Precisions:\t['73.31%', '74.56%', '80.58%', '87.18%', '81.88%', '80.73%', '84.06%']\n",
      "Total recall: 88.28%\t| Recalls:\t['85.61%', '90.70%', '91.05%', '92.87%', '82.99%', '82.50%', '90.73%']\n",
      "\n"
     ]
    },
    {
     "name": "stderr",
     "output_type": "stream",
     "text": [
      "Epoch 05/10: 100%|██████████| 678/678 [04:05<00:00,  2.76it/s, loss=0.0025]\n"
     ]
    },
    {
     "name": "stdout",
     "output_type": "stream",
     "text": [
      "Race distribution: [1556. 1516. 1623. 1209. 1415. 1550. 2085.] Total: 10954\n",
      "Evaluation epoch 05/10:\n",
      "Total accuracy: 83.08%\t| Accuracies:\t['76.80%', '82.19%', '85.40%', '87.10%', '81.70%', '81.87%', '86.14%'] | Max disparity: 0.1258\n",
      "Total precision: 81.80%\t| Precisions:\t['74.01%', '76.92%', '81.74%', '89.82%', '82.51%', '82.21%', '85.27%']\n",
      "Total recall: 87.47%\t| Recalls:\t['84.48%', '91.63%', '90.29%', '91.14%', '82.18%', '81.47%', '89.75%']\n",
      "\n"
     ]
    },
    {
     "name": "stderr",
     "output_type": "stream",
     "text": [
      "Epoch 06/10: 100%|██████████| 678/678 [04:06<00:00,  2.75it/s, loss=0.0272]\n"
     ]
    },
    {
     "name": "stdout",
     "output_type": "stream",
     "text": [
      "Race distribution: [1556. 1516. 1623. 1209. 1415. 1550. 2085.] Total: 10954\n",
      "Evaluation epoch 06/10:\n",
      "Total accuracy: 81.61%\t| Accuracies:\t['75.51%', '79.88%', '84.90%', '87.34%', '79.72%', '79.87%', '84.12%'] | Max disparity: 0.1455\n",
      "Total precision: 78.27%\t| Precisions:\t['71.33%', '73.24%', '79.72%', '88.28%', '76.92%', '77.00%', '81.36%']\n",
      "Total recall: 90.30%\t| Recalls:\t['87.48%', '93.76%', '92.69%', '93.60%', '87.07%', '85.33%', '91.44%']\n",
      "\n"
     ]
    },
    {
     "name": "stderr",
     "output_type": "stream",
     "text": [
      "Epoch 07/10: 100%|██████████| 678/678 [04:10<00:00,  2.71it/s, loss=0.0304]\n"
     ]
    },
    {
     "name": "stdout",
     "output_type": "stream",
     "text": [
      "Race distribution: [1556. 1516. 1623. 1209. 1415. 1550. 2085.] Total: 10954\n",
      "Evaluation epoch 07/10:\n",
      "Total accuracy: 83.11%\t| Accuracies:\t['76.80%', '81.20%', '86.44%', '87.76%', '81.41%', '82.26%', '85.71%'] | Max disparity: 0.1334\n",
      "Total precision: 80.81%\t| Precisions:\t['71.86%', '75.43%', '83.12%', '89.26%', '80.41%', '81.37%', '84.68%']\n",
      "Total recall: 89.26%\t| Recalls:\t['90.11%', '92.16%', '90.67%', '92.99%', '84.90%', '83.78%', '89.66%']\n",
      "\n"
     ]
    },
    {
     "name": "stderr",
     "output_type": "stream",
     "text": [
      "Epoch 08/10: 100%|██████████| 678/678 [04:11<00:00,  2.70it/s, loss=0.0000]\n"
     ]
    },
    {
     "name": "stdout",
     "output_type": "stream",
     "text": [
      "Race distribution: [1556. 1516. 1623. 1209. 1415. 1550. 2085.] Total: 10954\n",
      "Evaluation epoch 08/10:\n",
      "Total accuracy: 83.76%\t| Accuracies:\t['77.70%', '83.11%', '85.71%', '87.92%', '81.77%', '83.42%', '86.43%'] | Max disparity: 0.1236\n",
      "Total precision: 81.98%\t| Precisions:\t['73.06%', '78.66%', '82.06%', '89.47%', '82.45%', '84.21%', '84.58%']\n",
      "Total recall: 88.81%\t| Recalls:\t['89.61%', '90.57%', '90.54%', '92.99%', '82.45%', '82.37%', '91.44%']\n",
      "\n"
     ]
    },
    {
     "name": "stderr",
     "output_type": "stream",
     "text": [
      "Epoch 09/10: 100%|██████████| 678/678 [03:51<00:00,  2.93it/s, loss=0.0103]\n"
     ]
    },
    {
     "name": "stdout",
     "output_type": "stream",
     "text": [
      "Race distribution: [1556. 1516. 1623. 1209. 1415. 1550. 2085.] Total: 10954\n",
      "Evaluation epoch 09/10:\n",
      "Total accuracy: 83.77%\t| Accuracies:\t['78.02%', '83.91%', '86.44%', '86.85%', '81.84%', '82.39%', '86.43%'] | Max disparity: 0.1072\n",
      "Total precision: 84.63%\t| Precisions:\t['77.50%', '81.30%', '84.31%', '90.07%', '85.25%', '85.90%', '87.42%']\n",
      "Total recall: 84.69%\t| Recalls:\t['80.60%', '87.78%', '88.78%', '90.41%', '78.64%', '77.61%', '87.34%']\n",
      "\n"
     ]
    },
    {
     "name": "stderr",
     "output_type": "stream",
     "text": [
      "Epoch 10/10: 100%|██████████| 678/678 [03:54<00:00,  2.89it/s, loss=0.0025]\n"
     ]
    },
    {
     "name": "stdout",
     "output_type": "stream",
     "text": [
      "Race distribution: [1556. 1516. 1623. 1209. 1415. 1550. 2085.] Total: 10954\n",
      "Evaluation epoch 10/10:\n",
      "Total accuracy: 83.39%\t| Accuracies:\t['75.96%', '82.19%', '86.14%', '88.25%', '81.48%', '82.52%', '86.76%'] | Max disparity: 0.1500\n",
      "Total precision: 82.36%\t| Precisions:\t['72.63%', '76.98%', '82.64%', '90.18%', '83.83%', '85.14%', '85.85%']\n",
      "Total recall: 87.28%\t| Recalls:\t['85.36%', '91.50%', '90.67%', '92.62%', '79.73%', '78.89%', '90.29%']\n",
      "\n",
      "Total Training Time: 0:43:18\n"
     ]
    }
   ],
   "source": [
    "# Training loop\n",
    "start_time = time.time()\n",
    "\n",
    "print(f\"Initiating experiment '{experiments[exp]}' with a lr of {lr} and {size_train} samples on device {device}\")\n",
    "\n",
    "\n",
    "for epoch in range(num_epochs):\n",
    "    \n",
    "    model.train()\n",
    "    pbar = tqdm(enumerate(train_loader), total=len(train_loader), desc=f\"Epoch {(epoch+1):02d}/{num_epochs:02d}\")\n",
    "    for _, (features, targets, _) in pbar:\n",
    "        \n",
    "        features = features.to(device)\n",
    "        targets = targets.float().to(device)\n",
    "            \n",
    "        # forward and backward pass\n",
    "        model_output = model(features)\n",
    "        logits = sigmoid(fc_layer(model_output))\n",
    "        loss = bin_ce(logits, targets)\n",
    "        pbar.set_postfix({\"loss\": f\"{loss.item():.4f}\"})\n",
    "\n",
    "        optimizer.zero_grad()\n",
    "        \n",
    "        loss.backward()\n",
    "        \n",
    "        # update model params \n",
    "        optimizer.step()\n",
    "        \n",
    "        # if batch_idx == 0:\n",
    "        #     break \n",
    "\n",
    "    model.eval()\n",
    "    with torch.set_grad_enabled(False): # save memory during inference\n",
    "        acc_total, accs, max_acc_disp, prec_total, precs, rec_total, recs = evaluate_metrics(model, val_loader, device)\n",
    "        print(f\"Evaluation epoch {(epoch+1):02d}/{num_epochs:02d}:\")\n",
    "        print(f\"Total accuracy: {acc_total:.2%}\\t| Accuracies:\\t{accs} | Max disparity: {max_acc_disp:.4f}\")\n",
    "        print(f\"Total precision: {prec_total:.2%}\\t| Precisions:\\t{precs}\")\n",
    "        print(f\"Total recall: {rec_total:.2%}\\t| Recalls:\\t{recs}\\n\")\n",
    "    \n",
    "print(f\"Total Training Time: {get_elapsed_time(start_time)}\")"
   ]
  },
  {
   "cell_type": "code",
   "execution_count": 8,
   "metadata": {},
   "outputs": [
    {
     "name": "stdout",
     "output_type": "stream",
     "text": [
      "\n",
      "Evaluation of experiment: 'CelebA'\n",
      "\n"
     ]
    },
    {
     "name": "stderr",
     "output_type": "stream",
     "text": [
      "Evaluating: 100%|██████████| 156/156 [00:30<00:00,  5.17it/s]\n"
     ]
    },
    {
     "name": "stdout",
     "output_type": "stream",
     "text": [
      "Race distribution: [ 1461.   553.  1269.  1538.   311.  1777. 13053.] Total: 19962\n",
      "\n",
      "Evaluation CelebA test set:\n",
      "Total accuracy: 97.94%\t| Accuracies:\t['95.96%', '99.46%', '98.82%', '98.11%', '95.18%', '97.58%', '98.11%']\n",
      "Maximum accuracy disparity: 0.0440\n",
      "Total precision: 97.65%\t| Precisions:\t['96.50%', '98.58%', '97.97%', '98.00%', '95.10%', '98.01%', '97.77%']\n",
      "Total recall: 97.01%\t| Recalls:\t['96.39%', '100.00%', '97.69%', '98.13%', '94.44%', '94.43%', '97.14%']\n",
      "\n"
     ]
    },
    {
     "name": "stderr",
     "output_type": "stream",
     "text": [
      "Evaluating: 100%|██████████| 86/86 [00:15<00:00,  5.63it/s]"
     ]
    },
    {
     "name": "stdout",
     "output_type": "stream",
     "text": [
      "Race distribution: [1556. 1516. 1623. 1209. 1415. 1550. 2085.] Total: 10954\n",
      "\n",
      "Evaluation FairFace test set:\n",
      "Total accuracy: 83.39%\t| Accuracies:\t['75.96%', '82.19%', '86.14%', '88.25%', '81.48%', '82.52%', '86.76%']\n",
      "Maximum accuracy disparity: 0.1500\n",
      "Total precision: 82.36%\t| Precisions:\t['72.63%', '76.98%', '82.64%', '90.18%', '83.83%', '85.14%', '85.85%']\n",
      "Total recall: 87.28%\t| Recalls:\t['85.36%', '91.50%', '90.67%', '92.62%', '79.73%', '78.89%', '90.29%']\n",
      "\n"
     ]
    },
    {
     "name": "stderr",
     "output_type": "stream",
     "text": [
      "\n"
     ]
    }
   ],
   "source": [
    "# evaluate experiment on test sets\n",
    "with torch.set_grad_enabled(False): # save memory during inference\n",
    "    print(f\"\\nEvaluation of experiment: '{experiments[exp]}'\\n\")\n",
    "\n",
    "    # evaluation CelebA\n",
    "    acc_total, accs, max_acc_disp, prec_total, precs, rec_total, recs = evaluate_metrics(model, test_loader_celeb, device, show_tqdm=True)\n",
    "    print(\"\\nEvaluation CelebA test set:\")\n",
    "    print(f\"Total accuracy: {acc_total:.2%}\\t| Accuracies:\\t{accs}\")\n",
    "    print(f\"Maximum accuracy disparity: {max_acc_disp:.4f}\")\n",
    "    print(f\"Total precision: {prec_total:.2%}\\t| Precisions:\\t{precs}\")\n",
    "    print(f\"Total recall: {rec_total:.2%}\\t| Recalls:\\t{recs}\\n\")\n",
    "\n",
    "    # evaluation FairFace\n",
    "    acc_total, accs, max_acc_disp, prec_total, precs, rec_total, recs = evaluate_metrics(model, test_loader_ff, device, show_tqdm=True)\n",
    "    print(\"\\nEvaluation FairFace test set:\")\n",
    "    print(f\"Total accuracy: {acc_total:.2%}\\t| Accuracies:\\t{accs}\")\n",
    "    print(f\"Maximum accuracy disparity: {max_acc_disp:.4f}\")\n",
    "    print(f\"Total precision: {prec_total:.2%}\\t| Precisions:\\t{precs}\")\n",
    "    print(f\"Total recall: {rec_total:.2%}\\t| Recalls:\\t{recs}\\n\")\n"
   ]
  }
 ],
 "metadata": {
  "kernelspec": {
   "display_name": "Python 3",
   "language": "python",
   "name": "python3"
  },
  "language_info": {
   "codemirror_mode": {
    "name": "ipython",
    "version": 3
   },
   "file_extension": ".py",
   "mimetype": "text/x-python",
   "name": "python",
   "nbconvert_exporter": "python",
   "pygments_lexer": "ipython3",
   "version": "3.7.16"
  },
  "orig_nbformat": 4,
  "vscode": {
   "interpreter": {
    "hash": "949777d72b0d2535278d3dc13498b2535136f6dfe0678499012e853ee9abcab1"
   }
  }
 },
 "nbformat": 4,
 "nbformat_minor": 2
}
