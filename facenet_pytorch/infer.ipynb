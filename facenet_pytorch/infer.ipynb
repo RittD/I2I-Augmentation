{
 "cells": [
  {
   "cell_type": "markdown",
   "metadata": {},
   "source": [
    "# Face detection and recognition inference pipeline\n",
    "\n",
    "The following example illustrates how to use the `facenet_pytorch` python package to perform face detection and recogition on an image dataset using an Inception Resnet V1 pretrained on the VGGFace2 dataset.\n",
    "\n",
    "The following Pytorch methods are included:\n",
    "* Datasets\n",
    "* Dataloaders\n",
    "* GPU/CPU processing"
   ]
  },
  {
   "cell_type": "code",
   "execution_count": null,
   "metadata": {},
   "outputs": [],
   "source": [
    "from models.mtcnn import MTCNN\n",
    "from models.inception_resnet_v1 import InceptionResnetV1\n",
    "\n",
    "import torch\n",
    "from torch.utils.data import DataLoader\n",
    "from torchvision import datasets\n",
    "import numpy as np\n",
    "import pandas as pd\n",
    "import os\n",
    "from tqdm import tqdm\n",
    "\n",
    "workers = 0 if os.name == 'nt' else 4"
   ]
  },
  {
   "cell_type": "markdown",
   "metadata": {},
   "source": [
    "#### Determine if an nvidia GPU is available"
   ]
  },
  {
   "cell_type": "code",
   "execution_count": null,
   "metadata": {},
   "outputs": [],
   "source": [
    "device = torch.device('cuda:4' if torch.cuda.is_available() else 'cpu')\n",
    "print('Running on device: {}'.format(device))"
   ]
  },
  {
   "cell_type": "markdown",
   "metadata": {},
   "source": [
    "#### Define MTCNN module\n",
    "\n",
    "Default params shown for illustration, but not needed. Note that, since MTCNN is a collection of neural nets and other code, the device must be passed in the following way to enable copying of objects when needed internally.\n",
    "\n",
    "See `help(MTCNN)` for more details."
   ]
  },
  {
   "cell_type": "code",
   "execution_count": null,
   "metadata": {},
   "outputs": [],
   "source": [
    "mtcnn = MTCNN(\n",
    "    image_size=160, margin=0, min_face_size=20,\n",
    "    thresholds=[0.6, 0.7, 0.7], factor=0.709, post_process=True,\n",
    "    device=device\n",
    ")"
   ]
  },
  {
   "cell_type": "markdown",
   "metadata": {},
   "source": [
    "#### Define Inception Resnet V1 module\n",
    "\n",
    "Set classify=True for pretrained classifier. For this example, we will use the model to output embeddings/CNN features. Note that for inference, it is important to set the model to `eval` mode.\n",
    "\n",
    "See `help(InceptionResnetV1)` for more details."
   ]
  },
  {
   "cell_type": "code",
   "execution_count": null,
   "metadata": {},
   "outputs": [],
   "source": [
    "resnet = InceptionResnetV1(pretrained='vggface2').eval().to(device)"
   ]
  },
  {
   "cell_type": "markdown",
   "metadata": {},
   "source": [
    "#### Define a dataset and data loader\n",
    "\n",
    "We add the `idx_to_class` attribute to the dataset to enable easy recoding of label indices to identity names later one."
   ]
  },
  {
   "cell_type": "code",
   "execution_count": 15,
   "metadata": {},
   "outputs": [],
   "source": [
    "def collate_fn(x):\n",
    "    return x[0]\n",
    "dataset_dir = 'data/lfw_balanced_sample'\n",
    "dataset = datasets.ImageFolder(dataset_dir)\n",
    "dataset.idx_to_class = {i:c for c, i in dataset.class_to_idx.items()}\n",
    "loader = DataLoader(dataset, collate_fn=collate_fn, num_workers=workers)"
   ]
  },
  {
   "cell_type": "markdown",
   "metadata": {},
   "source": [
    "#### Perfom MTCNN facial detection\n",
    "\n",
    "Iterate through the DataLoader object and detect faces and associated detection probabilities for each. The `MTCNN` forward method returns images cropped to the detected face, if a face was detected. By default only a single detected face is returned - to have `MTCNN` return all detected faces, set `keep_all=True` when creating the MTCNN object above.\n",
    "\n",
    "To obtain bounding boxes rather than cropped face images, you can instead call the lower-level `mtcnn.detect()` function. See `help(mtcnn.detect)` for details."
   ]
  },
  {
   "cell_type": "code",
   "execution_count": null,
   "metadata": {},
   "outputs": [],
   "source": [
    "from PIL import Image\n",
    "import torchvision.transforms as T\n",
    "import matplotlib.pyplot as plt"
   ]
  },
  {
   "cell_type": "code",
   "execution_count": null,
   "metadata": {},
   "outputs": [],
   "source": [
    "aligned = []\n",
    "names = []\n",
    "for x, y in tqdm(loader, desc=\"Detecting faces\"):\n",
    "    x_aligned, prob = mtcnn(x, return_prob=True)\n",
    "    if x_aligned is not None:\n",
    "        # print('Face detected with probability: {:8f}'.format(prob))\n",
    "        aligned.append(x_aligned)\n",
    "        names.append(dataset.idx_to_class[y])\n",
    "\n",
    "# for img in aligned:\n",
    "#     img = (img + 1) / 2\n",
    "#     img = np.transpose(img, (1,2,0))\n",
    "#     plt.axis(\"off\")\n",
    "#     plt.imshow(img)\n",
    "#     plt.show()\n"
   ]
  },
  {
   "cell_type": "markdown",
   "metadata": {},
   "source": [
    "#### Calculate image embeddings\n",
    "\n",
    "MTCNN will return images of faces all the same size, enabling easy batch processing with the Resnet recognition module. Here, since we only have a few images, we build a single batch and perform inference on it. \n",
    "\n",
    "For real datasets, code should be modified to control batch sizes being passed to the Resnet, particularly if being processed on a GPU. For repeated testing, it is best to separate face detection (using MTCNN) from embedding or classification (using InceptionResnetV1), as calculation of cropped faces or bounding boxes can then be performed a single time and detected faces saved for future use."
   ]
  },
  {
   "cell_type": "code",
   "execution_count": 23,
   "metadata": {},
   "outputs": [
    {
     "name": "stdout",
     "output_type": "stream",
     "text": [
      "torch.Size([1268, 512])\n"
     ]
    }
   ],
   "source": [
    "aligned = torch.stack(aligned).to(device)\n",
    "embeddings = resnet(aligned).detach().cpu()\n",
    "print(embeddings.shape)"
   ]
  },
  {
   "cell_type": "markdown",
   "metadata": {},
   "source": [
    "#### Print distance matrix for classes"
   ]
  },
  {
   "cell_type": "code",
   "execution_count": null,
   "metadata": {},
   "outputs": [],
   "source": [
    "# dists = [[(e1 - e2).norm().item() for e2 in embeddings] for e1 in embeddings]\n",
    "# print(pd.DataFrame(dists, columns=names, index=names))"
   ]
  },
  {
   "attachments": {},
   "cell_type": "markdown",
   "metadata": {},
   "source": [
    "#### Group images by identity"
   ]
  },
  {
   "cell_type": "code",
   "execution_count": 21,
   "metadata": {},
   "outputs": [
    {
     "name": "stdout",
     "output_type": "stream",
     "text": [
      "['Abdoulaye_Wade', 'Abdoulaye_Wade', 'Abdoulaye_Wade', 'Abdoulaye_Wade', 'Adam_Scott', 'Adam_Scott', 'Adrian_McPherson', 'Adrian_McPherson', 'Ai_Sugiyama', 'Ai_Sugiyama', 'Ai_Sugiyama', 'Ai_Sugiyama', 'Ai_Sugiyama', 'Al_Davis', 'Al_Davis', 'Al_Gore', 'Al_Gore', 'Al_Gore', 'Al_Gore', 'Al_Gore']\n"
     ]
    }
   ],
   "source": [
    "print(names[:20])"
   ]
  },
  {
   "cell_type": "code",
   "execution_count": null,
   "metadata": {},
   "outputs": [],
   "source": [
    "# index = 0\n",
    "# for _, (name, emb) in enumerate(zip(names, embeddings)):\n",
    "#     count = 0\n",
    "#     while names[index] == name:\n",
    "#         count += 1\n",
    "#         index += 1\n",
    "    \n",
    "#     print(count)\n"
   ]
  },
  {
   "cell_type": "code",
   "execution_count": 20,
   "metadata": {},
   "outputs": [
    {
     "name": "stdout",
     "output_type": "stream",
     "text": [
      "[4, 2, 2, 5, 2, 8, 7, 5, 2, 2, 4, 3, 2, 2, 2, 5, 6, 3, 4, 2, 5, 2, 3, 4, 2, 5, 2, 2, 6, 3, 2, 5, 2, 5, 2, 13, 9, 2, 5, 2, 2, 3, 4, 5, 2, 3, 3, 2, 2, 4, 2, 4, 2, 2, 7, 5, 2, 2, 121, 2, 2, 3, 3, 2, 2, 2, 2, 6, 3, 2, 5, 2, 2, 2, 2, 44, 2, 2, 2, 2, 2, 3, 2, 3, 9, 2, 2, 9, 12, 15, 9, 2, 3, 2, 2, 2, 5, 2, 4, 2, 55, 2, 2, 9, 2, 2, 2, 2, 11, 2, 17, 2, 7, 2, 2, 2, 4, 2, 2, 60, 2, 2, 2, 2, 2, 2, 3, 3, 32, 5, 3, 4, 2, 2, 5, 2, 2, 3, 2, 8, 2, 3, 2, 2, 13, 2, 3, 3, 2, 2, 3, 8, 4, 2, 2, 8, 5, 4, 3, 4, 2, 2, 2, 2, 4, 2, 4, 3, 4, 2, 11, 19, 3, 4, 2, 5, 10, 2, 2, 3, 2, 8, 2, 3, 3, 2, 3, 2, 2, 2, 4, 3, 11, 4, 2, 8, 2, 2, 7, 2, 2, 2, 5, 2, 2, 4, 23, 2, 2, 5, 52, 11, 2, 2, 2, 4, 2, 2, 11, 2, 5, 3, 3, 6, 2, 2, 2, 9, 2, 2, 17, 2, 4, 7, 3, 2, 2, 13, 7, 4]\n"
     ]
    }
   ],
   "source": [
    "subdir_file_counts = []\n",
    "\n",
    "for subdir_name in sorted(os.listdir(dataset_dir)):\n",
    "    subdir_path = os.path.join(dataset_dir, subdir_name)\n",
    "    if os.path.isdir(subdir_path):\n",
    "        file_count = len(os.listdir(subdir_path))\n",
    "        # print(subdir_path, file_count)\n",
    "        subdir_file_counts.append(file_count)\n",
    "# print(subdir_file_counts)"
   ]
  },
  {
   "cell_type": "code",
   "execution_count": 55,
   "metadata": {},
   "outputs": [
    {
     "name": "stdout",
     "output_type": "stream",
     "text": [
      "torch.Size([240, 512])\n"
     ]
    }
   ],
   "source": [
    "mean_embeddings = torch.tensor([]).reshape(0, embeddings.shape[1])\n",
    "\n",
    "emb_copy = embeddings.clone()\n",
    "# print(emb_copy.shape)\n",
    "img_counts = subdir_file_counts.copy()\n",
    "while emb_copy.shape[0] > 0:\n",
    "    img_count = img_counts[0]\n",
    "    mean_emb = torch.mean(emb_copy[:img_count], axis=0)\n",
    "    mean_emb = torch.unsqueeze(mean_emb, dim=0)\n",
    "    mean_embeddings = torch.concatenate((mean_embeddings, mean_emb), axis=0)\n",
    "    emb_copy = emb_copy[img_count:]\n",
    "    img_counts = img_counts[1:]\n",
    "print(mean_embeddings.shape)"
   ]
  },
  {
   "cell_type": "code",
   "execution_count": 57,
   "metadata": {},
   "outputs": [],
   "source": [
    "names_iden = list(set(names))"
   ]
  },
  {
   "cell_type": "code",
   "execution_count": 58,
   "metadata": {},
   "outputs": [
    {
     "name": "stdout",
     "output_type": "stream",
     "text": [
      "                   Heizo_Takenaka  Chris_Tucker  Junichiro_Koizumi  \\\n",
      "Heizo_Takenaka           0.000000      1.293396           1.146032   \n",
      "Chris_Tucker             1.293396      0.000000           1.290224   \n",
      "Junichiro_Koizumi        1.146032      1.290224           0.000000   \n",
      "Evander_Holyfield        1.354377      0.949838           1.269642   \n",
      "Daryl_Hannah             1.207926      1.291774           1.152207   \n",
      "...                           ...           ...                ...   \n",
      "Boris_Yeltsin            1.167321      1.331528           1.228630   \n",
      "Saburo_Kawabuchi         1.354946      1.152677           1.288538   \n",
      "Michelle_Kwan            1.321478      1.232850           1.228452   \n",
      "Antony_Leung             1.203000      1.407689           1.278030   \n",
      "Michael_Jordan           1.106452      1.259932           1.101412   \n",
      "\n",
      "                   Evander_Holyfield  Daryl_Hannah  James_Wolfensohn  \\\n",
      "Heizo_Takenaka              1.354377      1.207926          1.279640   \n",
      "Chris_Tucker                0.949838      1.291774          1.223483   \n",
      "Junichiro_Koizumi           1.269642      1.152207          1.280379   \n",
      "Evander_Holyfield           0.000000      1.085680          1.160288   \n",
      "Daryl_Hannah                1.085680      0.000000          1.134275   \n",
      "...                              ...           ...               ...   \n",
      "Boris_Yeltsin               1.326958      1.316874          1.308157   \n",
      "Saburo_Kawabuchi            0.868569      1.223001          1.264882   \n",
      "Michelle_Kwan               1.074495      1.210161          1.133871   \n",
      "Antony_Leung                1.426687      1.271222          1.167686   \n",
      "Michael_Jordan              1.275445      1.207144          1.173547   \n",
      "\n",
      "                   Liu_Mingkang  Byron_Scott  Jean_Chretien  \\\n",
      "Heizo_Takenaka         1.049497     1.230443       1.378174   \n",
      "Chris_Tucker           1.299535     1.328780       1.114527   \n",
      "Junichiro_Koizumi      1.295764     1.313002       1.160485   \n",
      "Evander_Holyfield      1.309735     1.313293       1.041492   \n",
      "Daryl_Hannah           1.214863     1.268528       1.066286   \n",
      "...                         ...          ...            ...   \n",
      "Boris_Yeltsin          1.289408     1.314352       1.496025   \n",
      "Saburo_Kawabuchi       1.221105     1.500998       1.022459   \n",
      "Michelle_Kwan          1.303823     1.300323       0.863338   \n",
      "Antony_Leung           1.221531     1.181748       1.366394   \n",
      "Michael_Jordan         1.091760     1.437597       1.092074   \n",
      "\n",
      "                   Paradorn_Srichaphan  ...  Markus_Naslund  Chanda_Rubin  \\\n",
      "Heizo_Takenaka                1.431145  ...        1.090578      1.461964   \n",
      "Chris_Tucker                  1.304056  ...        1.213056      1.281151   \n",
      "Junichiro_Koizumi             1.318135  ...        1.053442      1.360028   \n",
      "Evander_Holyfield             1.301514  ...        1.183660      1.104245   \n",
      "Daryl_Hannah                  1.472830  ...        1.182345      1.356370   \n",
      "...                                ...  ...             ...           ...   \n",
      "Boris_Yeltsin                 1.313448  ...        1.051253      1.283730   \n",
      "Saburo_Kawabuchi              1.300003  ...        1.339882      1.272162   \n",
      "Michelle_Kwan                 1.217501  ...        1.344435      1.186814   \n",
      "Antony_Leung                  1.278111  ...        1.335363      1.450896   \n",
      "Michael_Jordan                1.275626  ...        1.322769      1.310294   \n",
      "\n",
      "                   Lennox_Lewis  Anwar_Ibrahim  Kurt_Warner  Boris_Yeltsin  \\\n",
      "Heizo_Takenaka         1.086382       1.045072     1.265851       1.167321   \n",
      "Chris_Tucker           1.141010       1.125796     1.173421       1.331528   \n",
      "Junichiro_Koizumi      1.291284       1.311425     1.442528       1.228630   \n",
      "Evander_Holyfield      1.338739       1.262507     1.304383       1.326958   \n",
      "Daryl_Hannah           1.390687       1.287837     1.369516       1.316874   \n",
      "...                         ...            ...          ...            ...   \n",
      "Boris_Yeltsin          1.266112       1.306223     1.386974       0.000000   \n",
      "Saburo_Kawabuchi       1.329854       1.296061     1.472351       1.430681   \n",
      "Michelle_Kwan          1.277592       1.317410     1.407970       1.385112   \n",
      "Antony_Leung           1.238481       1.309324     1.359718       1.257443   \n",
      "Michael_Jordan         1.162230       1.204025     1.616950       1.250478   \n",
      "\n",
      "                   Saburo_Kawabuchi  Michelle_Kwan  Antony_Leung  \\\n",
      "Heizo_Takenaka             1.354946       1.321478      1.203000   \n",
      "Chris_Tucker               1.152677       1.232850      1.407689   \n",
      "Junichiro_Koizumi          1.288538       1.228452      1.278030   \n",
      "Evander_Holyfield          0.868569       1.074495      1.426687   \n",
      "Daryl_Hannah               1.223001       1.210161      1.271222   \n",
      "...                             ...            ...           ...   \n",
      "Boris_Yeltsin              1.430681       1.385112      1.257443   \n",
      "Saburo_Kawabuchi           0.000000       0.911693      1.363697   \n",
      "Michelle_Kwan              0.911693       0.000000      1.267068   \n",
      "Antony_Leung               1.363697       1.267068      0.000000   \n",
      "Michael_Jordan             1.090898       0.817943      1.146385   \n",
      "\n",
      "                   Michael_Jordan  \n",
      "Heizo_Takenaka           1.106452  \n",
      "Chris_Tucker             1.259932  \n",
      "Junichiro_Koizumi        1.101412  \n",
      "Evander_Holyfield        1.275445  \n",
      "Daryl_Hannah             1.207144  \n",
      "...                           ...  \n",
      "Boris_Yeltsin            1.250478  \n",
      "Saburo_Kawabuchi         1.090898  \n",
      "Michelle_Kwan            0.817943  \n",
      "Antony_Leung             1.146385  \n",
      "Michael_Jordan           0.000000  \n",
      "\n",
      "[240 rows x 240 columns]\n"
     ]
    }
   ],
   "source": [
    "dists_iden = [[(e1 - e2).norm().item() for e2 in mean_embeddings] for e1 in mean_embeddings]\n",
    "print(pd.DataFrame(dists_iden, columns=names_iden, index=names_iden))"
   ]
  }
 ],
 "metadata": {
  "kernelspec": {
   "display_name": "Python 3",
   "language": "python",
   "name": "python3"
  },
  "language_info": {
   "codemirror_mode": {
    "name": "ipython",
    "version": 3
   },
   "file_extension": ".py",
   "mimetype": "text/x-python",
   "name": "python",
   "nbconvert_exporter": "python",
   "pygments_lexer": "ipython3",
   "version": "3.7.16"
  }
 },
 "nbformat": 4,
 "nbformat_minor": 2
}
