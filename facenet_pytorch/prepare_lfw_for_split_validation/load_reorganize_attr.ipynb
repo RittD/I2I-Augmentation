{
 "cells": [
  {
   "cell_type": "code",
   "execution_count": 2,
   "metadata": {},
   "outputs": [],
   "source": [
    "import pandas as pd\n",
    "import numpy as np\n",
    "import torch\n",
    "# from scipy.special import softmax"
   ]
  },
  {
   "cell_type": "code",
   "execution_count": 3,
   "metadata": {},
   "outputs": [],
   "source": [
    "def sigmoid(x):\n",
    "    return 1.0 / (1.0 + np.exp(-x))\n",
    "\n",
    "def softmax(x):\n",
    "    e_x = np.exp(x - np.max(x))\n",
    "    return e_x / e_x.sum(axis=0)\n",
    "\n",
    "def thresholded_argmax(x, threshold):\n",
    "    max_val = x.max()\n",
    "    if max_val > 1/len(x) + threshold:\n",
    "        return x.argmax()\n",
    "    else:\n",
    "        return -1"
   ]
  },
  {
   "cell_type": "code",
   "execution_count": 4,
   "metadata": {},
   "outputs": [
    {
     "name": "stdout",
     "output_type": "stream",
     "text": [
      "                        Gender      Male   Race     Asian     White     Black\n",
      "Person                                                                       \n",
      "AJ Cook                  Woman  0.108678  White  0.023884  0.910933  0.065182\n",
      "AJ Lamas               Unknown  0.515324  White  0.171984  0.693517  0.134499\n",
      "Aaron Eckhart              Man  0.827548  White  0.024283  0.912341  0.063376\n",
      "Aaron Guiel            Unknown  0.542361  White  0.171910  0.700707  0.127383\n",
      "Aaron Patterson            Man  0.730616  White  0.161835  0.540988  0.297177\n",
      "...                        ...       ...    ...       ...       ...       ...\n",
      "Winona Ryder             Woman  0.261678  White  0.091128  0.876057  0.032815\n",
      "Winston Churchill          Man  0.643083  White  0.270574  0.683685  0.045741\n",
      "Wolfgang Becker            Man  0.613176  White  0.121514  0.826783  0.051703\n",
      "Wolfgang Clement           Man  0.752395  White  0.082400  0.867524  0.050076\n",
      "Wolfgang Schneiderhan  Unknown  0.542174  White  0.196759  0.767444  0.035798\n",
      "\n",
      "[5638 rows x 6 columns]\n"
     ]
    }
   ],
   "source": [
    "# load the text file into a list of lines\n",
    "with open('attributes_lfw.txt', 'r') as file:\n",
    "    lines = file.readlines()\n",
    "\n",
    "column_names = ['Person', 'Male', 'Asian', 'White', 'Black']\n",
    "\n",
    "# load the rest of the lines as data, skipping the first line\n",
    "data = []\n",
    "for line in lines[2:]:  \n",
    "    line_split = line.split(\"\\t\")\n",
    "    data.append([line_split[0], sigmoid(float(line_split[2])), float(line_split[3]), float(line_split[4]), float(line_split[5])])\n",
    "\n",
    "# create a pandas dataframe with the column names and data\n",
    "df = pd.DataFrame(data, columns=column_names)\n",
    "df = df.groupby('Person').mean()\n",
    "\n",
    "# threshold for unsure decisions\n",
    "threshold = 0.1\n",
    "\n",
    "# calculate gender from logits\n",
    "df['Gender'] = (df['Male'] > 0.5).astype(int)\n",
    "df.loc[(df['Male'] >= 0.5 - threshold) & (df['Male'] <= 0.5 + threshold), 'Gender'] = \"Unknown\"\n",
    "df.loc[df['Gender'] == 0, 'Gender'] = \"Woman\"\n",
    "df.loc[df['Gender'] == 1, 'Gender'] = \"Man\"\n",
    "\n",
    "# use softmax on race predictions\n",
    "softmax_cols = ['Asian', 'White', 'Black']\n",
    "df[softmax_cols] = df[softmax_cols].apply(lambda x: softmax(x), axis=1)\n",
    "df['Race'] = df[softmax_cols].apply(lambda x: thresholded_argmax(x, threshold), axis=1)\n",
    "df.loc[df['Race'] == 0, 'Race'] = \"Asian\"\n",
    "df.loc[df['Race'] == 1, 'Race'] = \"White\"\n",
    "df.loc[df['Race'] == 2, 'Race'] = \"Black\"\n",
    "df.loc[df['Race'] == -1, 'Race'] = \"Unknown\"\n",
    "\n",
    "# reorder the columns\n",
    "df = df[['Gender', 'Male', 'Race', 'Asian', 'White', 'Black']]\n",
    "\n",
    "\n",
    "# print and save the dataframe\n",
    "print(df)\n",
    "df.to_csv(\"total.csv\")\n",
    "df = df[df['Race'] != 'Unknown']\n",
    "df.to_csv(\"total_without_unknowns.csv\")\n",
    "\n",
    "\n",
    "# # split the dataframe by race and save a sample of each race\n",
    "# sample_size = 300\n",
    "# race_groups = df.groupby('Race')\n",
    "# for race, group in race_groups:\n",
    "#     if race != \"Unknown\":\n",
    "#         group = group.sample(n=sample_size)\n",
    "#         group.to_csv(f'{race}_{sample_size}.csv', index=True)\n"
   ]
  }
 ],
 "metadata": {
  "kernelspec": {
   "display_name": "Python 3",
   "language": "python",
   "name": "python3"
  },
  "language_info": {
   "codemirror_mode": {
    "name": "ipython",
    "version": 3
   },
   "file_extension": ".py",
   "mimetype": "text/x-python",
   "name": "python",
   "nbconvert_exporter": "python",
   "pygments_lexer": "ipython3",
   "version": "3.7.16"
  },
  "orig_nbformat": 4
 },
 "nbformat": 4,
 "nbformat_minor": 2
}
