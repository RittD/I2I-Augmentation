{
 "cells": [
  {
   "cell_type": "code",
   "execution_count": 21,
   "metadata": {},
   "outputs": [],
   "source": [
    "import pandas as pd\n",
    "import os\n",
    "import shutil"
   ]
  },
  {
   "cell_type": "code",
   "execution_count": 22,
   "metadata": {},
   "outputs": [
    {
     "name": "stdout",
     "output_type": "stream",
     "text": [
      "5497\n",
      "751\n",
      "150\n"
     ]
    }
   ],
   "source": [
    "path_persons = \"total_without_unknowns.csv\"\n",
    "\n",
    "# prepare a list of the remaining persons\n",
    "persons_df = pd.read_csv(path_persons)[[\"Person\", \"Race\"]]\n",
    "persons_df.set_index('Person', inplace=True)\n",
    "print(len(persons_df))\n",
    "# print(persons_df.head())\n",
    "\n",
    "# define the directory to walk through\n",
    "dir_path = \"../data/lfw\"\n",
    "\n",
    "# walk through the dataset and keep only the persons with more than one image\n",
    "for root, dirs, files in os.walk(dir_path):\n",
    "    for person_dir in dirs:\n",
    "        # print(person_dir)\n",
    "        person = person_dir.replace(\"_\", \" \")\n",
    "        if person in persons_df.index:\n",
    "            num_images = len(os.listdir(dir_path+\"/\"+person_dir))\n",
    "            if num_images != 2:\n",
    "                persons_df.drop(person, inplace=True)\n",
    "print(len(persons_df))\n",
    "\n",
    "# nimm von jeder race ein sample mit 300(200) Leuten\n",
    "\n",
    "# persons_df = pd.loc[persons_df[\"Person\"] in persons]\n",
    "# print(persons_df)\n",
    "\n",
    "# balance the dataset by race\n",
    "sample_size = 50\n",
    "race_groups = persons_df.groupby('Race')\n",
    "balanced = pd.DataFrame(columns=persons_df.columns)\n",
    "\n",
    "for race, group in race_groups:\n",
    "    # print(race, len(group))\n",
    "    group = group.sample(n=sample_size)\n",
    "    balanced = balanced.append(group)\n",
    "    # group.to_csv(f'{race}_{sample_size}.csv', index=True)\n",
    "print(len(balanced))"
   ]
  },
  {
   "cell_type": "code",
   "execution_count": 24,
   "metadata": {},
   "outputs": [],
   "source": [
    "target_directory = \"../data/lfw_balanced_sample_pairs_2\"\n",
    "\n",
    "for person_dir in balanced.index.str.replace(\" \", \"_\"):\n",
    "    source_directory = os.path.join(dir_path, person_dir)\n",
    "    target_subdirectory = os.path.join(target_directory, person_dir)\n",
    "    shutil.copytree(source_directory, target_subdirectory)\n"
   ]
  }
 ],
 "metadata": {
  "kernelspec": {
   "display_name": "Python 3",
   "language": "python",
   "name": "python3"
  },
  "language_info": {
   "codemirror_mode": {
    "name": "ipython",
    "version": 3
   },
   "file_extension": ".py",
   "mimetype": "text/x-python",
   "name": "python",
   "nbconvert_exporter": "python",
   "pygments_lexer": "ipython3",
   "version": "3.7.16"
  },
  "orig_nbformat": 4
 },
 "nbformat": 4,
 "nbformat_minor": 2
}
