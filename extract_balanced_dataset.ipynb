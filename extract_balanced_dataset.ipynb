{
 "cells": [
  {
   "cell_type": "code",
   "execution_count": 7,
   "metadata": {},
   "outputs": [],
   "source": [
    "import pandas as pd\n",
    "import shutil\n",
    "import os\n",
    "\n",
    "# Define input and output directories\n",
    "input_dir = 'fairface/dataset/augmentations/mixed_caps_total_70k/' #'CelebA/aug_precise_prompts_strong'\n",
    "output_dir = 'fairface/dataset/test' #'CelebA/test'\n",
    "label_dir = 'DMimageDetection/fidelities_mixed_caps_total_70k.csv'#CelebA/labels_split/train_aug_10k_total_fid_harm_precise_prompts.csv'\n",
    "\n",
    "# Read the csv file with the list of filenames\n",
    "labels = pd.read_csv(label_dir)\n",
    "labels = labels.sample(n=1000)\n",
    "# labels = labels[-1000:]\n",
    "# print(labels)\n",
    "\n",
    "# # Loop through each filename in the csv file\n",
    "for filename in labels['Image_Name']:\n",
    "    # Check if the file exists in the input directory\n",
    "    if os.path.exists(os.path.join(input_dir, filename)):\n",
    "        # Copy the file to the output directory\n",
    "        shutil.copy(os.path.join(input_dir, filename), os.path.join(output_dir, filename))\n"
   ]
  },
  {
   "cell_type": "code",
   "execution_count": 4,
   "metadata": {},
   "outputs": [
    {
     "name": "stdout",
     "output_type": "stream",
     "text": [
      "   Unnamed: 0                   Image_Name  Fidelity_Score  Image_Number  \\\n",
      "0           0            85109_0_black.jpg        0.999431         85109   \n",
      "1           1           30458_1_indian.jpg        0.998755         30458   \n",
      "2          22           68500_2_latino.jpg        0.997100         68500   \n",
      "3           3   67870_3_middle eastern.jpg        0.998675         67870   \n",
      "4          48  55748_4_southeast asian.jpg        0.996006         55748   \n",
      "\n",
      "   Gender             Race  \n",
      "0       1            Black  \n",
      "1       0           Indian  \n",
      "2       0           Latino  \n",
      "3       0   Middle Eastern  \n",
      "4       0  Southeast Asian  \n"
     ]
    }
   ],
   "source": [
    "import pandas as pd\n",
    "import shutil\n",
    "import os\n",
    "\n",
    "# Define input and output directories\n",
    "input_dir = 'fairface/dataset/augmentations/mixed_caps_total_70k' #'CelebA/cropped'\n",
    "output_dir = 'fairface/dataset/augmentations/10k_top_fid' #'CelebA/test'\n",
    "# label_path = 'CelebA/labels_split/train_aug_10k_total_fid_harm_precise_prompts.csv'\n",
    "label_path = 'fairface/dataset/augmentations/mixed_caps_10k_balanced.csv'\n",
    "\n",
    "# Read the csv file with the list of filenames\n",
    "labels = pd.read_csv(label_path)\n",
    "# print(labels.head())\n",
    "\n",
    "# Loop through each filename in the csv file\n",
    "for filename in labels['Image_Name']:\n",
    "    # Check if the file exists in the input directory\n",
    "    if os.path.exists(os.path.join(input_dir, filename)):\n",
    "        # Copy the file to the output directory\n",
    "        shutil.copy(os.path.join(input_dir, filename), os.path.join(output_dir, filename))\n"
   ]
  },
  {
   "cell_type": "code",
   "execution_count": 11,
   "metadata": {},
   "outputs": [
    {
     "name": "stderr",
     "output_type": "stream",
     "text": [
      "100%|██████████| 5477/5477 [00:05<00:00, 989.33it/s] \n"
     ]
    }
   ],
   "source": [
    "import pandas as pd\n",
    "import shutil\n",
    "import os\n",
    "from tqdm import tqdm\n",
    "\n",
    "# Define input and output directories\n",
    "input_dir = '/workspaces/PromptToPrompt/face_detector/combined_dataset/val/7k'#'fairface/dataset/fairface-img-margin125-trainval' #'fairface/dataset/augmentations/mixed_caps_total_84k''/workspaces/PromptToPrompt/ImageNetSample/test_7k' #\n",
    "output_dir = '/workspaces/PromptToPrompt/face_detector/combined_dataset/val/5_5k/'\n",
    "label_dir = '/workspaces/PromptToPrompt/face_detector/combined_dataset/val/5_5k/val_fairface.csv' #'fairface/dataset/labels/ff_mixed_caps_10k_balanced.csv'\n",
    "\n",
    "# Read the csv file with the list of filenames\n",
    "labels = pd.read_csv(label_dir)\n",
    "\n",
    "# Loop through each filename in the csv file\n",
    "for filename in tqdm(labels['Image_Name']):\n",
    "    # filename = filename.split(\"/\")[1]\n",
    "    # Check if the file exists in the input directory\n",
    "    if os.path.exists(os.path.join(input_dir, filename)): # and race == \"White\":\n",
    "        # Copy the file to the output directory\n",
    "        shutil.copy(os.path.join(input_dir, filename), os.path.join(output_dir, filename))\n"
   ]
  },
  {
   "cell_type": "code",
   "execution_count": 7,
   "metadata": {},
   "outputs": [
    {
     "name": "stdout",
     "output_type": "stream",
     "text": [
      "Matching percentage: 91.84%.\n"
     ]
    }
   ],
   "source": [
    "# import pandas as pd\n",
    "\n",
    "# # Load the dataframe from a file or create it using pd.DataFrame()\n",
    "# df = pd.read_csv(\"CelebA/labels_split/train_aug_10000_distinct_samples_correct_gender.csv\")\n",
    "\n",
    "# # Calculate the percentage of matching values between column1 and column2\n",
    "# matching_percentage = (df['Male'] == df['Original_Gender']).mean()\n",
    "\n",
    "# # Print the matching percentage\n",
    "# print(f\"Matching percentage: {matching_percentage:.2%}.\")\n",
    "\n"
   ]
  }
 ],
 "metadata": {
  "kernelspec": {
   "display_name": "Python 3",
   "language": "python",
   "name": "python3"
  },
  "language_info": {
   "codemirror_mode": {
    "name": "ipython",
    "version": 3
   },
   "file_extension": ".py",
   "mimetype": "text/x-python",
   "name": "python",
   "nbconvert_exporter": "python",
   "pygments_lexer": "ipython3",
   "version": "3.7.16"
  },
  "orig_nbformat": 4,
  "vscode": {
   "interpreter": {
    "hash": "949777d72b0d2535278d3dc13498b2535136f6dfe0678499012e853ee9abcab1"
   }
  }
 },
 "nbformat": 4,
 "nbformat_minor": 2
}
