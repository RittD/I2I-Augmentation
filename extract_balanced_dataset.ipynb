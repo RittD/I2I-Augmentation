{
 "cells": [
  {
   "cell_type": "code",
   "execution_count": 1,
   "metadata": {},
   "outputs": [],
   "source": [
    "import pandas as pd\n",
    "import shutil\n",
    "import os\n",
    "\n",
    "# Define input and output directories\n",
    "input_dir = 'CelebA/aug_0_5__0_gender_spec'\n",
    "output_dir = 'CelebA/augmentations/aug_0_5__0_kept_correct_gender'\n",
    "\n",
    "# Read the csv file with the list of filenames\n",
    "aug_data = pd.read_csv('CelebA/labels_split/train_aug_10000_distinct_samples_correct_gender.csv')\n",
    "\n",
    "# Loop through each filename in the csv file\n",
    "for filename in aug_data['Image_Name']:\n",
    "    # Check if the file exists in the input directory\n",
    "    if os.path.exists(os.path.join(input_dir, filename)):\n",
    "        # Copy the file to the output directory\n",
    "        shutil.copy(os.path.join(input_dir, filename), os.path.join(output_dir, filename))\n"
   ]
  },
  {
   "cell_type": "code",
   "execution_count": 7,
   "metadata": {},
   "outputs": [
    {
     "name": "stdout",
     "output_type": "stream",
     "text": [
      "Matching percentage: 91.84%.\n"
     ]
    }
   ],
   "source": [
    "# import pandas as pd\n",
    "\n",
    "# # Load the dataframe from a file or create it using pd.DataFrame()\n",
    "# df = pd.read_csv(\"CelebA/labels_split/train_aug_10000_distinct_samples_correct_gender.csv\")\n",
    "\n",
    "# # Calculate the percentage of matching values between column1 and column2\n",
    "# matching_percentage = (df['Male'] == df['Original_Gender']).mean()\n",
    "\n",
    "# # Print the matching percentage\n",
    "# print(f\"Matching percentage: {matching_percentage:.2%}.\")\n",
    "\n"
   ]
  }
 ],
 "metadata": {
  "kernelspec": {
   "display_name": "Python 3",
   "language": "python",
   "name": "python3"
  },
  "language_info": {
   "codemirror_mode": {
    "name": "ipython",
    "version": 3
   },
   "file_extension": ".py",
   "mimetype": "text/x-python",
   "name": "python",
   "nbconvert_exporter": "python",
   "pygments_lexer": "ipython3",
   "version": "3.7.16"
  },
  "orig_nbformat": 4
 },
 "nbformat": 4,
 "nbformat_minor": 2
}
